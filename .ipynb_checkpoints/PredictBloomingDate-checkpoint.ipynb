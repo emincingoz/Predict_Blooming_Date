{
 "cells": [
  {
   "cell_type": "markdown",
   "id": "94fc3f9d",
   "metadata": {},
   "source": [
    "# Predict Blooming Date with scikit-learn"
   ]
  },
  {
   "cell_type": "code",
   "execution_count": 1,
   "id": "da4d9c62",
   "metadata": {},
   "outputs": [],
   "source": [
    "# Import Libraries\n",
    "import numpy as np\n",
    "import pandas as pd\n",
    "import matplotlib.pyplot as plt"
   ]
  },
  {
   "cell_type": "code",
   "execution_count": 2,
   "id": "a4f8ee90",
   "metadata": {},
   "outputs": [
    {
     "data": {
      "text/html": [
       "<div>\n",
       "<style scoped>\n",
       "    .dataframe tbody tr th:only-of-type {\n",
       "        vertical-align: middle;\n",
       "    }\n",
       "\n",
       "    .dataframe tbody tr th {\n",
       "        vertical-align: top;\n",
       "    }\n",
       "\n",
       "    .dataframe thead th {\n",
       "        text-align: right;\n",
       "    }\n",
       "</style>\n",
       "<table border=\"1\" class=\"dataframe\">\n",
       "  <thead>\n",
       "    <tr style=\"text-align: right;\">\n",
       "      <th></th>\n",
       "      <th>date</th>\n",
       "      <th>temperature</th>\n",
       "      <th>flower_status</th>\n",
       "    </tr>\n",
       "  </thead>\n",
       "  <tbody>\n",
       "    <tr>\n",
       "      <th>0</th>\n",
       "      <td>1997/1/1</td>\n",
       "      <td>2.9</td>\n",
       "      <td>NaN</td>\n",
       "    </tr>\n",
       "    <tr>\n",
       "      <th>1</th>\n",
       "      <td>1997/1/2</td>\n",
       "      <td>2.2</td>\n",
       "      <td>NaN</td>\n",
       "    </tr>\n",
       "    <tr>\n",
       "      <th>2</th>\n",
       "      <td>1997/1/3</td>\n",
       "      <td>-1.6</td>\n",
       "      <td>NaN</td>\n",
       "    </tr>\n",
       "    <tr>\n",
       "      <th>3</th>\n",
       "      <td>1997/1/4</td>\n",
       "      <td>0.2</td>\n",
       "      <td>NaN</td>\n",
       "    </tr>\n",
       "    <tr>\n",
       "      <th>4</th>\n",
       "      <td>1997/1/5</td>\n",
       "      <td>-0.4</td>\n",
       "      <td>NaN</td>\n",
       "    </tr>\n",
       "  </tbody>\n",
       "</table>\n",
       "</div>"
      ],
      "text/plain": [
       "       date  temperature flower_status\n",
       "0  1997/1/1          2.9           NaN\n",
       "1  1997/1/2          2.2           NaN\n",
       "2  1997/1/3         -1.6           NaN\n",
       "3  1997/1/4          0.2           NaN\n",
       "4  1997/1/5         -0.4           NaN"
      ]
     },
     "execution_count": 2,
     "metadata": {},
     "output_type": "execute_result"
    }
   ],
   "source": [
    "# Import dataset\n",
    "data = pd.read_csv('hirosaki_temp_cherry_bloom.csv')\n",
    "data.head()"
   ]
  },
  {
   "cell_type": "markdown",
   "id": "e40994e0",
   "metadata": {},
   "source": [
    "## Split date to year, month and day"
   ]
  },
  {
   "cell_type": "code",
   "execution_count": 3,
   "id": "db1af8e5",
   "metadata": {},
   "outputs": [
    {
     "data": {
      "text/html": [
       "<div>\n",
       "<style scoped>\n",
       "    .dataframe tbody tr th:only-of-type {\n",
       "        vertical-align: middle;\n",
       "    }\n",
       "\n",
       "    .dataframe tbody tr th {\n",
       "        vertical-align: top;\n",
       "    }\n",
       "\n",
       "    .dataframe thead th {\n",
       "        text-align: right;\n",
       "    }\n",
       "</style>\n",
       "<table border=\"1\" class=\"dataframe\">\n",
       "  <thead>\n",
       "    <tr style=\"text-align: right;\">\n",
       "      <th></th>\n",
       "      <th>temperature</th>\n",
       "      <th>flower_status</th>\n",
       "      <th>year</th>\n",
       "      <th>month</th>\n",
       "      <th>day</th>\n",
       "    </tr>\n",
       "  </thead>\n",
       "  <tbody>\n",
       "    <tr>\n",
       "      <th>0</th>\n",
       "      <td>2.9</td>\n",
       "      <td>NaN</td>\n",
       "      <td>1997</td>\n",
       "      <td>1</td>\n",
       "      <td>1</td>\n",
       "    </tr>\n",
       "    <tr>\n",
       "      <th>1</th>\n",
       "      <td>2.2</td>\n",
       "      <td>NaN</td>\n",
       "      <td>1997</td>\n",
       "      <td>1</td>\n",
       "      <td>2</td>\n",
       "    </tr>\n",
       "    <tr>\n",
       "      <th>2</th>\n",
       "      <td>-1.6</td>\n",
       "      <td>NaN</td>\n",
       "      <td>1997</td>\n",
       "      <td>1</td>\n",
       "      <td>3</td>\n",
       "    </tr>\n",
       "    <tr>\n",
       "      <th>3</th>\n",
       "      <td>0.2</td>\n",
       "      <td>NaN</td>\n",
       "      <td>1997</td>\n",
       "      <td>1</td>\n",
       "      <td>4</td>\n",
       "    </tr>\n",
       "    <tr>\n",
       "      <th>4</th>\n",
       "      <td>-0.4</td>\n",
       "      <td>NaN</td>\n",
       "      <td>1997</td>\n",
       "      <td>1</td>\n",
       "      <td>5</td>\n",
       "    </tr>\n",
       "    <tr>\n",
       "      <th>...</th>\n",
       "      <td>...</td>\n",
       "      <td>...</td>\n",
       "      <td>...</td>\n",
       "      <td>...</td>\n",
       "      <td>...</td>\n",
       "    </tr>\n",
       "    <tr>\n",
       "      <th>8395</th>\n",
       "      <td>-0.2</td>\n",
       "      <td>NaN</td>\n",
       "      <td>2019</td>\n",
       "      <td>12</td>\n",
       "      <td>27</td>\n",
       "    </tr>\n",
       "    <tr>\n",
       "      <th>8396</th>\n",
       "      <td>-1.3</td>\n",
       "      <td>NaN</td>\n",
       "      <td>2019</td>\n",
       "      <td>12</td>\n",
       "      <td>28</td>\n",
       "    </tr>\n",
       "    <tr>\n",
       "      <th>8397</th>\n",
       "      <td>-0.6</td>\n",
       "      <td>NaN</td>\n",
       "      <td>2019</td>\n",
       "      <td>12</td>\n",
       "      <td>29</td>\n",
       "    </tr>\n",
       "    <tr>\n",
       "      <th>8398</th>\n",
       "      <td>1.8</td>\n",
       "      <td>NaN</td>\n",
       "      <td>2019</td>\n",
       "      <td>12</td>\n",
       "      <td>30</td>\n",
       "    </tr>\n",
       "    <tr>\n",
       "      <th>8399</th>\n",
       "      <td>-0.2</td>\n",
       "      <td>NaN</td>\n",
       "      <td>2019</td>\n",
       "      <td>12</td>\n",
       "      <td>31</td>\n",
       "    </tr>\n",
       "  </tbody>\n",
       "</table>\n",
       "<p>8400 rows × 5 columns</p>\n",
       "</div>"
      ],
      "text/plain": [
       "      temperature flower_status  year  month  day\n",
       "0             2.9           NaN  1997      1    1\n",
       "1             2.2           NaN  1997      1    2\n",
       "2            -1.6           NaN  1997      1    3\n",
       "3             0.2           NaN  1997      1    4\n",
       "4            -0.4           NaN  1997      1    5\n",
       "...           ...           ...   ...    ...  ...\n",
       "8395         -0.2           NaN  2019     12   27\n",
       "8396         -1.3           NaN  2019     12   28\n",
       "8397         -0.6           NaN  2019     12   29\n",
       "8398          1.8           NaN  2019     12   30\n",
       "8399         -0.2           NaN  2019     12   31\n",
       "\n",
       "[8400 rows x 5 columns]"
      ]
     },
     "execution_count": 3,
     "metadata": {},
     "output_type": "execute_result"
    }
   ],
   "source": [
    "year = []\n",
    "month = []\n",
    "day = []\n",
    "date = data.iloc[:,0].values\n",
    "for i in range(len(date)):\n",
    "    str = date[i]\n",
    "    temp = str.split('/', 1)\n",
    "    year.append(int(temp[0]))\n",
    "    month.append(int(temp[1].split('/', 1)[0]))\n",
    "    day.append(int(temp[1].split('/', 1)[1]))\n",
    "    \n",
    "data['year'] = year\n",
    "data['month'] = month\n",
    "data['day'] = day\n",
    "\n",
    "data.drop('date', axis = 1, inplace = True)       # date, gün, ay, yıl verilerine ayrıldı. Artık date'e gerek yok\n",
    "data"
   ]
  },
  {
   "cell_type": "markdown",
   "id": "68ec7e75",
   "metadata": {},
   "source": [
    "## Missing Values"
   ]
  },
  {
   "cell_type": "code",
   "execution_count": 4,
   "id": "b8f5a1a2",
   "metadata": {},
   "outputs": [
    {
     "data": {
      "text/plain": [
       "temperature         0\n",
       "flower_status    8331\n",
       "year                0\n",
       "month               0\n",
       "day                 0\n",
       "dtype: int64"
      ]
     },
     "execution_count": 4,
     "metadata": {},
     "output_type": "execute_result"
    }
   ],
   "source": [
    "data.isnull().sum()"
   ]
  },
  {
   "cell_type": "code",
   "execution_count": 5,
   "id": "de453869",
   "metadata": {},
   "outputs": [
    {
     "data": {
      "text/html": [
       "<div>\n",
       "<style scoped>\n",
       "    .dataframe tbody tr th:only-of-type {\n",
       "        vertical-align: middle;\n",
       "    }\n",
       "\n",
       "    .dataframe tbody tr th {\n",
       "        vertical-align: top;\n",
       "    }\n",
       "\n",
       "    .dataframe thead th {\n",
       "        text-align: right;\n",
       "    }\n",
       "</style>\n",
       "<table border=\"1\" class=\"dataframe\">\n",
       "  <thead>\n",
       "    <tr style=\"text-align: right;\">\n",
       "      <th></th>\n",
       "      <th>temperature</th>\n",
       "      <th>year</th>\n",
       "      <th>month</th>\n",
       "      <th>day</th>\n",
       "      <th>flower_status</th>\n",
       "    </tr>\n",
       "  </thead>\n",
       "  <tbody>\n",
       "    <tr>\n",
       "      <th>0</th>\n",
       "      <td>2.9</td>\n",
       "      <td>1997</td>\n",
       "      <td>1</td>\n",
       "      <td>1</td>\n",
       "      <td>0</td>\n",
       "    </tr>\n",
       "    <tr>\n",
       "      <th>1</th>\n",
       "      <td>2.2</td>\n",
       "      <td>1997</td>\n",
       "      <td>1</td>\n",
       "      <td>2</td>\n",
       "      <td>0</td>\n",
       "    </tr>\n",
       "    <tr>\n",
       "      <th>2</th>\n",
       "      <td>-1.6</td>\n",
       "      <td>1997</td>\n",
       "      <td>1</td>\n",
       "      <td>3</td>\n",
       "      <td>0</td>\n",
       "    </tr>\n",
       "    <tr>\n",
       "      <th>3</th>\n",
       "      <td>0.2</td>\n",
       "      <td>1997</td>\n",
       "      <td>1</td>\n",
       "      <td>4</td>\n",
       "      <td>0</td>\n",
       "    </tr>\n",
       "    <tr>\n",
       "      <th>4</th>\n",
       "      <td>-0.4</td>\n",
       "      <td>1997</td>\n",
       "      <td>1</td>\n",
       "      <td>5</td>\n",
       "      <td>0</td>\n",
       "    </tr>\n",
       "    <tr>\n",
       "      <th>...</th>\n",
       "      <td>...</td>\n",
       "      <td>...</td>\n",
       "      <td>...</td>\n",
       "      <td>...</td>\n",
       "      <td>...</td>\n",
       "    </tr>\n",
       "    <tr>\n",
       "      <th>8395</th>\n",
       "      <td>-0.2</td>\n",
       "      <td>2019</td>\n",
       "      <td>12</td>\n",
       "      <td>27</td>\n",
       "      <td>3</td>\n",
       "    </tr>\n",
       "    <tr>\n",
       "      <th>8396</th>\n",
       "      <td>-1.3</td>\n",
       "      <td>2019</td>\n",
       "      <td>12</td>\n",
       "      <td>28</td>\n",
       "      <td>3</td>\n",
       "    </tr>\n",
       "    <tr>\n",
       "      <th>8397</th>\n",
       "      <td>-0.6</td>\n",
       "      <td>2019</td>\n",
       "      <td>12</td>\n",
       "      <td>29</td>\n",
       "      <td>3</td>\n",
       "    </tr>\n",
       "    <tr>\n",
       "      <th>8398</th>\n",
       "      <td>1.8</td>\n",
       "      <td>2019</td>\n",
       "      <td>12</td>\n",
       "      <td>30</td>\n",
       "      <td>3</td>\n",
       "    </tr>\n",
       "    <tr>\n",
       "      <th>8399</th>\n",
       "      <td>-0.2</td>\n",
       "      <td>2019</td>\n",
       "      <td>12</td>\n",
       "      <td>31</td>\n",
       "      <td>3</td>\n",
       "    </tr>\n",
       "  </tbody>\n",
       "</table>\n",
       "<p>8400 rows × 5 columns</p>\n",
       "</div>"
      ],
      "text/plain": [
       "      temperature  year  month  day flower_status\n",
       "0             2.9  1997      1    1             0\n",
       "1             2.2  1997      1    2             0\n",
       "2            -1.6  1997      1    3             0\n",
       "3             0.2  1997      1    4             0\n",
       "4            -0.4  1997      1    5             0\n",
       "...           ...   ...    ...  ...           ...\n",
       "8395         -0.2  2019     12   27             3\n",
       "8396         -1.3  2019     12   28             3\n",
       "8397         -0.6  2019     12   29             3\n",
       "8398          1.8  2019     12   30             3\n",
       "8399         -0.2  2019     12   31             3\n",
       "\n",
       "[8400 rows x 5 columns]"
      ]
     },
     "execution_count": 5,
     "metadata": {},
     "output_type": "execute_result"
    }
   ],
   "source": [
    "flower_status = data.iloc[:, 1:2].values\n",
    "data.drop('flower_status', axis = 1, inplace = True)\n",
    "for i in range(len(flower_status)):\n",
    "    month, day = data['month'][i], data['day'][i]\n",
    "    if month == 1 and day == 1:\n",
    "        status = 0                                 # Before Blooming\n",
    "    else:\n",
    "        if flower_status[i] == \"bloom\":            \n",
    "            status = 1                             # Bloom\n",
    "        elif flower_status[i] == \"full\":           \n",
    "            status = 2                             # Full Bloom\n",
    "        elif flower_status[i] == \"scatter\":        \n",
    "            status = 3                             # Scatter\n",
    "    flower_status[i] = status\n",
    "    \n",
    "data['flower_status'] = flower_status\n",
    "data"
   ]
  },
  {
   "cell_type": "markdown",
   "id": "43f2acde",
   "metadata": {},
   "source": [
    "## Data Preprocessing"
   ]
  },
  {
   "cell_type": "code",
   "execution_count": 6,
   "id": "e88de5af",
   "metadata": {},
   "outputs": [
    {
     "data": {
      "text/html": [
       "<div>\n",
       "<style scoped>\n",
       "    .dataframe tbody tr th:only-of-type {\n",
       "        vertical-align: middle;\n",
       "    }\n",
       "\n",
       "    .dataframe tbody tr th {\n",
       "        vertical-align: top;\n",
       "    }\n",
       "\n",
       "    .dataframe thead th {\n",
       "        text-align: right;\n",
       "    }\n",
       "</style>\n",
       "<table border=\"1\" class=\"dataframe\">\n",
       "  <thead>\n",
       "    <tr style=\"text-align: right;\">\n",
       "      <th></th>\n",
       "      <th>temperature</th>\n",
       "      <th>year</th>\n",
       "      <th>month</th>\n",
       "      <th>day</th>\n",
       "      <th>flower_status</th>\n",
       "    </tr>\n",
       "  </thead>\n",
       "  <tbody>\n",
       "    <tr>\n",
       "      <th>0</th>\n",
       "      <td>2.4</td>\n",
       "      <td>1997</td>\n",
       "      <td>3</td>\n",
       "      <td>1</td>\n",
       "      <td>0</td>\n",
       "    </tr>\n",
       "    <tr>\n",
       "      <th>1</th>\n",
       "      <td>-2.4</td>\n",
       "      <td>1997</td>\n",
       "      <td>3</td>\n",
       "      <td>2</td>\n",
       "      <td>0</td>\n",
       "    </tr>\n",
       "    <tr>\n",
       "      <th>2</th>\n",
       "      <td>-4.0</td>\n",
       "      <td>1997</td>\n",
       "      <td>3</td>\n",
       "      <td>3</td>\n",
       "      <td>0</td>\n",
       "    </tr>\n",
       "    <tr>\n",
       "      <th>3</th>\n",
       "      <td>-1.1</td>\n",
       "      <td>1997</td>\n",
       "      <td>3</td>\n",
       "      <td>4</td>\n",
       "      <td>0</td>\n",
       "    </tr>\n",
       "    <tr>\n",
       "      <th>4</th>\n",
       "      <td>0.3</td>\n",
       "      <td>1997</td>\n",
       "      <td>3</td>\n",
       "      <td>5</td>\n",
       "      <td>0</td>\n",
       "    </tr>\n",
       "    <tr>\n",
       "      <th>...</th>\n",
       "      <td>...</td>\n",
       "      <td>...</td>\n",
       "      <td>...</td>\n",
       "      <td>...</td>\n",
       "      <td>...</td>\n",
       "    </tr>\n",
       "    <tr>\n",
       "      <th>2111</th>\n",
       "      <td>24.0</td>\n",
       "      <td>2019</td>\n",
       "      <td>5</td>\n",
       "      <td>27</td>\n",
       "      <td>3</td>\n",
       "    </tr>\n",
       "    <tr>\n",
       "      <th>2112</th>\n",
       "      <td>19.0</td>\n",
       "      <td>2019</td>\n",
       "      <td>5</td>\n",
       "      <td>28</td>\n",
       "      <td>3</td>\n",
       "    </tr>\n",
       "    <tr>\n",
       "      <th>2113</th>\n",
       "      <td>16.1</td>\n",
       "      <td>2019</td>\n",
       "      <td>5</td>\n",
       "      <td>29</td>\n",
       "      <td>3</td>\n",
       "    </tr>\n",
       "    <tr>\n",
       "      <th>2114</th>\n",
       "      <td>19.0</td>\n",
       "      <td>2019</td>\n",
       "      <td>5</td>\n",
       "      <td>30</td>\n",
       "      <td>3</td>\n",
       "    </tr>\n",
       "    <tr>\n",
       "      <th>2115</th>\n",
       "      <td>17.3</td>\n",
       "      <td>2019</td>\n",
       "      <td>5</td>\n",
       "      <td>31</td>\n",
       "      <td>3</td>\n",
       "    </tr>\n",
       "  </tbody>\n",
       "</table>\n",
       "<p>2116 rows × 5 columns</p>\n",
       "</div>"
      ],
      "text/plain": [
       "      temperature  year  month  day flower_status\n",
       "0             2.4  1997      3    1             0\n",
       "1            -2.4  1997      3    2             0\n",
       "2            -4.0  1997      3    3             0\n",
       "3            -1.1  1997      3    4             0\n",
       "4             0.3  1997      3    5             0\n",
       "...           ...   ...    ...  ...           ...\n",
       "2111         24.0  2019      5   27             3\n",
       "2112         19.0  2019      5   28             3\n",
       "2113         16.1  2019      5   29             3\n",
       "2114         19.0  2019      5   30             3\n",
       "2115         17.3  2019      5   31             3\n",
       "\n",
       "[2116 rows x 5 columns]"
      ]
     },
     "execution_count": 6,
     "metadata": {},
     "output_type": "execute_result"
    }
   ],
   "source": [
    "# Extract Data\n",
    "for i in range(len(data)):\n",
    "    month = data['month'][i]\n",
    "    if month != 3 and month != 4 and month != 5:    #  and month != 6\n",
    "        data.drop([i], axis = 0, inplace = True)\n",
    "        \n",
    "# Reindexing\n",
    "data = data.rename(index = {j: i for i, j in enumerate(data.index)})\n",
    "data"
   ]
  },
  {
   "cell_type": "code",
   "execution_count": 7,
   "id": "34d08aa7",
   "metadata": {},
   "outputs": [
    {
     "data": {
      "text/html": [
       "<div>\n",
       "<style scoped>\n",
       "    .dataframe tbody tr th:only-of-type {\n",
       "        vertical-align: middle;\n",
       "    }\n",
       "\n",
       "    .dataframe tbody tr th {\n",
       "        vertical-align: top;\n",
       "    }\n",
       "\n",
       "    .dataframe thead th {\n",
       "        text-align: right;\n",
       "    }\n",
       "</style>\n",
       "<table border=\"1\" class=\"dataframe\">\n",
       "  <thead>\n",
       "    <tr style=\"text-align: right;\">\n",
       "      <th></th>\n",
       "      <th>month</th>\n",
       "      <th>day</th>\n",
       "      <th>temperature</th>\n",
       "      <th>temp_accum</th>\n",
       "      <th>flower_status</th>\n",
       "    </tr>\n",
       "  </thead>\n",
       "  <tbody>\n",
       "    <tr>\n",
       "      <th>0</th>\n",
       "      <td>3</td>\n",
       "      <td>1</td>\n",
       "      <td>2.4</td>\n",
       "      <td>2.4</td>\n",
       "      <td>0</td>\n",
       "    </tr>\n",
       "    <tr>\n",
       "      <th>1</th>\n",
       "      <td>3</td>\n",
       "      <td>2</td>\n",
       "      <td>-2.4</td>\n",
       "      <td>0.0</td>\n",
       "      <td>0</td>\n",
       "    </tr>\n",
       "    <tr>\n",
       "      <th>2</th>\n",
       "      <td>3</td>\n",
       "      <td>3</td>\n",
       "      <td>-4.0</td>\n",
       "      <td>-4.0</td>\n",
       "      <td>0</td>\n",
       "    </tr>\n",
       "    <tr>\n",
       "      <th>3</th>\n",
       "      <td>3</td>\n",
       "      <td>4</td>\n",
       "      <td>-1.1</td>\n",
       "      <td>-5.1</td>\n",
       "      <td>0</td>\n",
       "    </tr>\n",
       "    <tr>\n",
       "      <th>4</th>\n",
       "      <td>3</td>\n",
       "      <td>5</td>\n",
       "      <td>0.3</td>\n",
       "      <td>-4.8</td>\n",
       "      <td>0</td>\n",
       "    </tr>\n",
       "    <tr>\n",
       "      <th>...</th>\n",
       "      <td>...</td>\n",
       "      <td>...</td>\n",
       "      <td>...</td>\n",
       "      <td>...</td>\n",
       "      <td>...</td>\n",
       "    </tr>\n",
       "    <tr>\n",
       "      <th>2111</th>\n",
       "      <td>5</td>\n",
       "      <td>27</td>\n",
       "      <td>24.0</td>\n",
       "      <td>17950.3</td>\n",
       "      <td>3</td>\n",
       "    </tr>\n",
       "    <tr>\n",
       "      <th>2112</th>\n",
       "      <td>5</td>\n",
       "      <td>28</td>\n",
       "      <td>19.0</td>\n",
       "      <td>17969.3</td>\n",
       "      <td>3</td>\n",
       "    </tr>\n",
       "    <tr>\n",
       "      <th>2113</th>\n",
       "      <td>5</td>\n",
       "      <td>29</td>\n",
       "      <td>16.1</td>\n",
       "      <td>17985.4</td>\n",
       "      <td>3</td>\n",
       "    </tr>\n",
       "    <tr>\n",
       "      <th>2114</th>\n",
       "      <td>5</td>\n",
       "      <td>30</td>\n",
       "      <td>19.0</td>\n",
       "      <td>18004.4</td>\n",
       "      <td>3</td>\n",
       "    </tr>\n",
       "    <tr>\n",
       "      <th>2115</th>\n",
       "      <td>5</td>\n",
       "      <td>31</td>\n",
       "      <td>17.3</td>\n",
       "      <td>18021.7</td>\n",
       "      <td>3</td>\n",
       "    </tr>\n",
       "  </tbody>\n",
       "</table>\n",
       "<p>2116 rows × 5 columns</p>\n",
       "</div>"
      ],
      "text/plain": [
       "      month  day  temperature  temp_accum  flower_status\n",
       "0         3    1          2.4         2.4              0\n",
       "1         3    2         -2.4         0.0              0\n",
       "2         3    3         -4.0        -4.0              0\n",
       "3         3    4         -1.1        -5.1              0\n",
       "4         3    5          0.3        -4.8              0\n",
       "...     ...  ...          ...         ...            ...\n",
       "2111      5   27         24.0     17950.3              3\n",
       "2112      5   28         19.0     17969.3              3\n",
       "2113      5   29         16.1     17985.4              3\n",
       "2114      5   30         19.0     18004.4              3\n",
       "2115      5   31         17.3     18021.7              3\n",
       "\n",
       "[2116 rows x 5 columns]"
      ]
     },
     "execution_count": 7,
     "metadata": {},
     "output_type": "execute_result"
    }
   ],
   "source": [
    "# Take cumulative temperature and add data column\n",
    "newdata = []\n",
    "accumulated_temp = 0\n",
    "for i in range(len(data)):\n",
    "    month, day = data['month'][i], data['day'][i]\n",
    "    if month == '4' and day == '1':\n",
    "        accumulated_temp = 0\n",
    "    temp = data['temperature'][i]\n",
    "    accumulated_temp += temp\n",
    "    status = data['flower_status'][i]\n",
    "    row = {'month':month, 'day':day, 'temperature':temp, 'temp_accum':accumulated_temp, 'flower_status':status}\n",
    "    newdata.append(row)\n",
    "newdata = pd.DataFrame(newdata)\n",
    "newdata"
   ]
  },
  {
   "cell_type": "markdown",
   "id": "9349e52d",
   "metadata": {},
   "source": [
    "## Data Slicing and Reshaping"
   ]
  },
  {
   "cell_type": "code",
   "execution_count": 8,
   "id": "44103d84",
   "metadata": {},
   "outputs": [],
   "source": [
    "x = newdata.drop(['flower_status'], axis = 1)\n",
    "y = newdata.iloc[:, 4:].values\n",
    "x = x.astype('float32')                      # temperature, day, month, year\n",
    "y = y.astype('int32')                        # flower_status"
   ]
  },
  {
   "cell_type": "markdown",
   "id": "86485224",
   "metadata": {},
   "source": [
    "### Feature Scaling"
   ]
  },
  {
   "cell_type": "code",
   "execution_count": 9,
   "id": "014541b0",
   "metadata": {},
   "outputs": [],
   "source": [
    "from sklearn.preprocessing import RobustScaler\n",
    "\n",
    "scaler_robust = RobustScaler()\n",
    "X_robust = scaler_robust.fit_transform(x)"
   ]
  },
  {
   "cell_type": "code",
   "execution_count": 10,
   "id": "f0a418b0",
   "metadata": {},
   "outputs": [],
   "source": [
    "from sklearn.model_selection import train_test_split\n",
    "\n",
    "x_train, x_test, y_train, y_test = train_test_split(X_robust, y, test_size = 0.33, random_state = 0)"
   ]
  },
  {
   "cell_type": "markdown",
   "id": "7e31b90f",
   "metadata": {},
   "source": [
    "# Logistic Regression"
   ]
  },
  {
   "cell_type": "code",
   "execution_count": 11,
   "id": "53e78377",
   "metadata": {},
   "outputs": [
    {
     "data": {
      "text/plain": [
       "LogisticRegression()"
      ]
     },
     "execution_count": 11,
     "metadata": {},
     "output_type": "execute_result"
    }
   ],
   "source": [
    "from sklearn.linear_model import LogisticRegression\n",
    "\n",
    "logr = LogisticRegression()\n",
    "\n",
    "# Train logistic regression model \n",
    "logr.fit(x_train, y_train.ravel())"
   ]
  },
  {
   "cell_type": "code",
   "execution_count": 12,
   "id": "7e0e28da",
   "metadata": {},
   "outputs": [],
   "source": [
    "# Make Prediction\n",
    "y_pred = logr.predict(x_test)"
   ]
  },
  {
   "cell_type": "code",
   "execution_count": 13,
   "id": "fd54add3",
   "metadata": {},
   "outputs": [
    {
     "data": {
      "image/png": "[encoded data removed]",
      "text/plain": [
       "<Figure size 432x288 with 2 Axes>"
      ]
     },
     "metadata": {
      "needs_background": "light"
     },
     "output_type": "display_data"
    },
    {
     "name": "stdout",
     "output_type": "stream",
     "text": [
      "              precision    recall  f1-score   support\n",
      "\n",
      "           0       0.94      0.99      0.96       395\n",
      "           1       0.55      0.16      0.25        37\n",
      "           2       0.00      0.00      0.00        28\n",
      "           3       0.87      0.99      0.92       239\n",
      "\n",
      "    accuracy                           0.91       699\n",
      "   macro avg       0.59      0.53      0.53       699\n",
      "weighted avg       0.86      0.91      0.87       699\n",
      "\n",
      "accuracy : 0.90558\n"
     ]
    }
   ],
   "source": [
    "from sklearn.metrics import confusion_matrix, classification_report, accuracy_score\n",
    "import seaborn as sns\n",
    "\n",
    "cm = confusion_matrix(y_test, y_pred)\n",
    "sns.heatmap(cm, annot=True, cmap='Blues')\n",
    "plt.title(\"Logistic Regression\")\n",
    "plt.show()\n",
    "\n",
    "# Classification Report\n",
    "clfReport = classification_report(y_test, y_pred, zero_division = 0)\n",
    "print(clfReport)\n",
    "\n",
    "score = accuracy_score(y_test, y_pred)\n",
    "print('accuracy :', '{:.5f}'.format(score))"
   ]
  },
  {
   "cell_type": "markdown",
   "id": "9563747f",
   "metadata": {},
   "source": [
    "### Cross Validation Score "
   ]
  },
  {
   "cell_type": "code",
   "execution_count": 14,
   "id": "df1ce5f6",
   "metadata": {},
   "outputs": [
    {
     "name": "stdout",
     "output_type": "stream",
     "text": [
      "Cross Validation Mean Score:  0.8828338827289983\n"
     ]
    }
   ],
   "source": [
    "from sklearn.model_selection import cross_val_score\n",
    "\n",
    "cvs = cross_val_score(estimator = logr, X = x_train, y = y_train.ravel(), cv = 10)\n",
    "print(\"Cross Validation Mean Score: \", cvs.mean())"
   ]
  },
  {
   "cell_type": "markdown",
   "id": "722879b2",
   "metadata": {},
   "source": [
    "### Parameter Optimization"
   ]
  },
  {
   "cell_type": "code",
   "execution_count": 15,
   "id": "184ff722",
   "metadata": {},
   "outputs": [
    {
     "name": "stdout",
     "output_type": "stream",
     "text": [
      "En iyi Sonuç:  0.8835530915992409\n",
      "En iyi parametreler:  {'fit_intercept': 'True', 'penalty': 'l1', 'solver': 'liblinear'}\n"
     ]
    },
    {
     "name": "stderr",
     "output_type": "stream",
     "text": [
      "C:\\ProgramData\\Anaconda3\\lib\\site-packages\\sklearn\\model_selection\\_search.py:918: UserWarning: One or more of the test scores are non-finite: [       nan        nan 0.88355309        nan        nan        nan\n",
      "        nan 0.87860354        nan        nan        nan        nan\n",
      "        nan        nan        nan        nan        nan        nan\n",
      "        nan        nan        nan        nan 0.88355309        nan\n",
      "        nan        nan        nan 0.87860354        nan        nan\n",
      "        nan        nan        nan        nan        nan        nan\n",
      "        nan        nan        nan        nan]\n",
      "  warnings.warn(\n"
     ]
    }
   ],
   "source": [
    "from sklearn.model_selection import GridSearchCV\n",
    "\n",
    "parameters = [{'penalty': ['l1', 'l2', 'elasticnet', 'none'], \n",
    "               'fit_intercept': ['True', 'False'], \n",
    "               'solver': ['newton-cg', 'lbfgs', 'liblinear', 'sag', 'saga']}]\n",
    "\n",
    "gs = GridSearchCV(estimator = logr,\n",
    "                 param_grid = parameters,\n",
    "                 scoring = 'accuracy',\n",
    "                 cv = 10,\n",
    "                 n_jobs = -1)\n",
    "\n",
    "grid_search = gs.fit(x_train, y_train.ravel())\n",
    "\n",
    "best_result = grid_search.best_score_\n",
    "best_parameters = grid_search.best_params_\n",
    "\n",
    "print(\"En iyi Sonuç: \", best_result)\n",
    "print(\"En iyi parametreler: \", best_parameters)"
   ]
  },
  {
   "cell_type": "markdown",
   "id": "fa40163b",
   "metadata": {},
   "source": [
    "# K-NN Classifier"
   ]
  },
  {
   "cell_type": "code",
   "execution_count": 16,
   "id": "c13991e7",
   "metadata": {},
   "outputs": [
    {
     "data": {
      "text/plain": [
       "KNeighborsClassifier(n_neighbors=6)"
      ]
     },
     "execution_count": 16,
     "metadata": {},
     "output_type": "execute_result"
    }
   ],
   "source": [
    "from sklearn.neighbors import KNeighborsClassifier\n",
    "\n",
    "knn = KNeighborsClassifier(n_neighbors = 6, metric = 'minkowski') # 6\n",
    "\n",
    "# Train K-NN Model\n",
    "knn.fit(x_train, y_train.ravel())"
   ]
  },
  {
   "cell_type": "code",
   "execution_count": 17,
   "id": "c08ad1c6",
   "metadata": {},
   "outputs": [],
   "source": [
    "# Make a Prediction\n",
    "y_pred = knn.predict(x_test)"
   ]
  },
  {
   "cell_type": "code",
   "execution_count": 18,
   "id": "b6538b3a",
   "metadata": {},
   "outputs": [
    {
     "data": {
      "image/png": "[encoded data removed]",
      "text/plain": [
       "<Figure size 432x288 with 2 Axes>"
      ]
     },
     "metadata": {
      "needs_background": "light"
     },
     "output_type": "display_data"
    },
    {
     "name": "stdout",
     "output_type": "stream",
     "text": [
      "              precision    recall  f1-score   support\n",
      "\n",
      "           0       0.96      0.99      0.98       395\n",
      "           1       0.60      0.57      0.58        37\n",
      "           2       0.71      0.43      0.53        28\n",
      "           3       0.94      0.95      0.94       239\n",
      "\n",
      "    accuracy                           0.93       699\n",
      "   macro avg       0.80      0.73      0.76       699\n",
      "weighted avg       0.93      0.93      0.93       699\n",
      "\n",
      "accuracy : 0.93133\n"
     ]
    }
   ],
   "source": [
    "from sklearn.metrics import confusion_matrix, classification_report, accuracy_score\n",
    "import seaborn as sns\n",
    "\n",
    "cm = confusion_matrix(y_test, y_pred)\n",
    "sns.heatmap(cm, annot=True, cmap='Blues')\n",
    "plt.title(\"K-NN Classifier\")\n",
    "plt.show()\n",
    "\n",
    "# Classification Report\n",
    "clfReport = classification_report(y_test, y_pred, zero_division = 0)\n",
    "print(clfReport)\n",
    "\n",
    "score = accuracy_score(y_test, y_pred)\n",
    "print('accuracy :', '{:.5f}'.format(score))"
   ]
  },
  {
   "cell_type": "markdown",
   "id": "f81b6fff",
   "metadata": {},
   "source": [
    "### Cross Validation Score"
   ]
  },
  {
   "cell_type": "code",
   "execution_count": 19,
   "id": "e7aaba82",
   "metadata": {},
   "outputs": [
    {
     "name": "stdout",
     "output_type": "stream",
     "text": [
      "Cross Validation Mean Score:  0.9011687144141444\n"
     ]
    }
   ],
   "source": [
    "from sklearn.model_selection import cross_val_score\n",
    "\n",
    "cvs = cross_val_score(estimator = knn, X = x_train, y = y_train.ravel(), cv = 10)\n",
    "print(\"Cross Validation Mean Score: \", cvs.mean())"
   ]
  },
  {
   "cell_type": "markdown",
   "id": "e2b35732",
   "metadata": {},
   "source": [
    "### Parameter Optimization"
   ]
  },
  {
   "cell_type": "code",
   "execution_count": 20,
   "id": "f3b7910b",
   "metadata": {},
   "outputs": [
    {
     "name": "stdout",
     "output_type": "stream",
     "text": [
      "En iyi Sonuç:  0.9272949755269202\n",
      "En iyi parametreler:  {'algorithm': 'auto', 'metric': 'manhattan', 'n_neighbors': 4, 'weights': 'distance'}\n"
     ]
    },
    {
     "name": "stderr",
     "output_type": "stream",
     "text": [
      "C:\\ProgramData\\Anaconda3\\lib\\site-packages\\sklearn\\model_selection\\_search.py:918: UserWarning: One or more of the test scores are non-finite: [       nan        nan 0.9195435  ... 0.87364899 0.86660174 0.87435321]\n",
      "  warnings.warn(\n"
     ]
    }
   ],
   "source": [
    "from sklearn.model_selection import GridSearchCV\n",
    "\n",
    "parameters = [{'n_neighbors': [i for i in range(50)], \n",
    "               'weights': ['uniform', 'distance'], \n",
    "               'algorithm': ['auto', 'ball_tree', 'kd_tree', 'brute'], \n",
    "               'metric': ['euclidean', 'manhattan', 'chebyshev', 'minkowski', 'wminkowski', 'seuclidean', 'mahalanobis']}]\n",
    "\n",
    "gs = GridSearchCV(estimator = knn,\n",
    "                 param_grid = parameters,\n",
    "                 scoring = 'accuracy',\n",
    "                 cv = 10,\n",
    "                 n_jobs = -1)\n",
    "\n",
    "grid_search = gs.fit(x_train, y_train.ravel())\n",
    "\n",
    "best_result = grid_search.best_score_\n",
    "best_parameters = grid_search.best_params_\n",
    "\n",
    "print(\"En iyi Sonuç: \", best_result)\n",
    "print(\"En iyi parametreler: \", best_parameters)"
   ]
  },
  {
   "cell_type": "markdown",
   "id": "7980de9d",
   "metadata": {},
   "source": [
    "# SVM Classifier"
   ]
  },
  {
   "cell_type": "code",
   "execution_count": 21,
   "id": "126d1aaa",
   "metadata": {},
   "outputs": [
    {
     "data": {
      "text/plain": [
       "SVC()"
      ]
     },
     "execution_count": 21,
     "metadata": {},
     "output_type": "execute_result"
    }
   ],
   "source": [
    "from sklearn.svm import SVC\n",
    "\n",
    "svc = SVC(kernel = 'rbf')         # rbf, sigmoid, poly\n",
    "\n",
    "# Train SVM classifier model\n",
    "svc.fit(x_train, y_train.ravel())"
   ]
  },
  {
   "cell_type": "code",
   "execution_count": 22,
   "id": "1b2ed699",
   "metadata": {},
   "outputs": [],
   "source": [
    "y_pred = svc.predict(x_test)"
   ]
  },
  {
   "cell_type": "code",
   "execution_count": 23,
   "id": "0a7b96bd",
   "metadata": {},
   "outputs": [
    {
     "data": {
      "image/png": "[encoded data removed]",
      "text/plain": [
       "<Figure size 432x288 with 2 Axes>"
      ]
     },
     "metadata": {
      "needs_background": "light"
     },
     "output_type": "display_data"
    },
    {
     "name": "stdout",
     "output_type": "stream",
     "text": [
      "              precision    recall  f1-score   support\n",
      "\n",
      "           0       0.94      0.99      0.97       395\n",
      "           1       0.42      0.27      0.33        37\n",
      "           2       0.33      0.07      0.12        28\n",
      "           3       0.91      0.96      0.94       239\n",
      "\n",
      "    accuracy                           0.91       699\n",
      "   macro avg       0.65      0.57      0.59       699\n",
      "weighted avg       0.88      0.91      0.89       699\n",
      "\n",
      "accuracy : 0.90844\n"
     ]
    }
   ],
   "source": [
    "from sklearn.metrics import confusion_matrix, classification_report, accuracy_score\n",
    "import seaborn as sns\n",
    "\n",
    "cm = confusion_matrix(y_test, y_pred)\n",
    "sns.heatmap(cm, annot=True, cmap='Blues')\n",
    "plt.title(\"SVM Classifier\")\n",
    "plt.show()\n",
    "\n",
    "# Classification Report\n",
    "clfReport = classification_report(y_test, y_pred, zero_division = 0)\n",
    "print(clfReport)\n",
    "\n",
    "score = accuracy_score(y_test, y_pred)\n",
    "print('accuracy :', '{:.5f}'.format(score))"
   ]
  },
  {
   "cell_type": "markdown",
   "id": "09bec2ed",
   "metadata": {},
   "source": [
    "### Cross Validation Score"
   ]
  },
  {
   "cell_type": "code",
   "execution_count": 24,
   "id": "a0df31f0",
   "metadata": {},
   "outputs": [
    {
     "name": "stdout",
     "output_type": "stream",
     "text": [
      "Cross Validation Mean Score:  0.879302766956348\n"
     ]
    }
   ],
   "source": [
    "from sklearn.model_selection import cross_val_score\n",
    "\n",
    "cvs = cross_val_score(estimator = svc, X = x_train, y = y_train.ravel(), cv = 10)\n",
    "print(\"Cross Validation Mean Score: \", cvs.mean())"
   ]
  },
  {
   "cell_type": "markdown",
   "id": "d85d289b",
   "metadata": {},
   "source": [
    "# Naive Bayes"
   ]
  },
  {
   "cell_type": "code",
   "execution_count": 25,
   "id": "8aad16de",
   "metadata": {},
   "outputs": [
    {
     "data": {
      "text/plain": [
       "GaussianNB()"
      ]
     },
     "execution_count": 25,
     "metadata": {},
     "output_type": "execute_result"
    }
   ],
   "source": [
    "# Gaussian Naive Bayes, Multinomial Naive Bayes, Complement Naive Bayes, Bernaulli Naive Bayes, Categorical Naive Bayes\n",
    "from sklearn.naive_bayes import GaussianNB\n",
    "\n",
    "gnb = GaussianNB()\n",
    "\n",
    "# Train Gaussian Naive Bayes Classification Model\n",
    "gnb.fit(x_train, y_train.ravel())"
   ]
  },
  {
   "cell_type": "code",
   "execution_count": 26,
   "id": "3cb29467",
   "metadata": {},
   "outputs": [],
   "source": [
    "y_pred = gnb.predict(x_test)"
   ]
  },
  {
   "cell_type": "code",
   "execution_count": 27,
   "id": "a0f7822e",
   "metadata": {},
   "outputs": [
    {
     "data": {
      "image/png": "[encoded data removed]",
      "text/plain": [
       "<Figure size 432x288 with 2 Axes>"
      ]
     },
     "metadata": {
      "needs_background": "light"
     },
     "output_type": "display_data"
    },
    {
     "name": "stdout",
     "output_type": "stream",
     "text": [
      "              precision    recall  f1-score   support\n",
      "\n",
      "           0       0.98      0.92      0.95       395\n",
      "           1       0.31      0.65      0.42        37\n",
      "           2       0.21      0.14      0.17        28\n",
      "           3       0.95      0.93      0.94       239\n",
      "\n",
      "    accuracy                           0.88       699\n",
      "   macro avg       0.61      0.66      0.62       699\n",
      "weighted avg       0.91      0.88      0.89       699\n",
      "\n",
      "accuracy : 0.87697\n"
     ]
    }
   ],
   "source": [
    "from sklearn.metrics import confusion_matrix, classification_report, accuracy_score\n",
    "import seaborn as sns\n",
    "\n",
    "cm = confusion_matrix(y_test, y_pred)\n",
    "sns.heatmap(cm, annot=True, cmap='Blues')\n",
    "plt.title(\"Naive Bayes Classifier\")\n",
    "plt.show()\n",
    "\n",
    "# Classification Report\n",
    "clfReport = classification_report(y_test, y_pred, zero_division = 0)\n",
    "print(clfReport)\n",
    "\n",
    "score = accuracy_score(y_test, y_pred)\n",
    "print('accuracy :', '{:.5f}'.format(score))"
   ]
  },
  {
   "cell_type": "markdown",
   "id": "ae6eb58a",
   "metadata": {},
   "source": [
    "### Cross Validation Score"
   ]
  },
  {
   "cell_type": "code",
   "execution_count": 28,
   "id": "8c5a1eba",
   "metadata": {},
   "outputs": [
    {
     "name": "stdout",
     "output_type": "stream",
     "text": [
      "Cross Validation Mean Score:  0.861667166117271\n"
     ]
    }
   ],
   "source": [
    "from sklearn.model_selection import cross_val_score\n",
    "\n",
    "cvs = cross_val_score(estimator = gnb, X = x_train, y = y_train.ravel(), cv = 10)\n",
    "print(\"Cross Validation Mean Score: \", cvs.mean())"
   ]
  },
  {
   "cell_type": "markdown",
   "id": "829e33c5",
   "metadata": {},
   "source": [
    "# Decision Tree Classifier"
   ]
  },
  {
   "cell_type": "code",
   "execution_count": 29,
   "id": "0b6f045b",
   "metadata": {},
   "outputs": [
    {
     "data": {
      "text/plain": [
       "DecisionTreeClassifier()"
      ]
     },
     "execution_count": 29,
     "metadata": {},
     "output_type": "execute_result"
    }
   ],
   "source": [
    "from sklearn.tree import DecisionTreeClassifier\n",
    "\n",
    "dtc = DecisionTreeClassifier(criterion = 'gini')   # gini(default)-entropy\n",
    "\n",
    "# Train Decision Tree Model\n",
    "dtc.fit(x_train, y_train)"
   ]
  },
  {
   "cell_type": "code",
   "execution_count": 30,
   "id": "57659975",
   "metadata": {},
   "outputs": [],
   "source": [
    "y_pred = dtc.predict(x_test)"
   ]
  },
  {
   "cell_type": "code",
   "execution_count": 31,
   "id": "776f6ee1",
   "metadata": {},
   "outputs": [
    {
     "data": {
      "image/png": "[encoded data removed]",
      "text/plain": [
       "<Figure size 432x288 with 2 Axes>"
      ]
     },
     "metadata": {
      "needs_background": "light"
     },
     "output_type": "display_data"
    },
    {
     "name": "stdout",
     "output_type": "stream",
     "text": [
      "              precision    recall  f1-score   support\n",
      "\n",
      "           0       0.98      0.98      0.98       395\n",
      "           1       0.58      0.68      0.63        37\n",
      "           2       0.59      0.57      0.58        28\n",
      "           3       0.97      0.95      0.96       239\n",
      "\n",
      "    accuracy                           0.94       699\n",
      "   macro avg       0.78      0.79      0.79       699\n",
      "weighted avg       0.94      0.94      0.94       699\n",
      "\n",
      "accuracy : 0.93705\n"
     ]
    }
   ],
   "source": [
    "from sklearn.metrics import confusion_matrix, classification_report, accuracy_score\n",
    "import seaborn as sns\n",
    "\n",
    "cm = confusion_matrix(y_test, y_pred)\n",
    "sns.heatmap(cm, annot=True, cmap='Blues')\n",
    "plt.title(\"Decision Tree Classifier\")\n",
    "plt.show()\n",
    "\n",
    "# Classification Report\n",
    "clfReport = classification_report(y_test, y_pred, zero_division = 0)\n",
    "print(clfReport)\n",
    "\n",
    "score = accuracy_score(y_test, y_pred)\n",
    "print('accuracy :', '{:.5f}'.format(score))"
   ]
  },
  {
   "cell_type": "markdown",
   "id": "4e854b11",
   "metadata": {},
   "source": [
    "### Cross Validation Score"
   ]
  },
  {
   "cell_type": "code",
   "execution_count": 32,
   "id": "45019052",
   "metadata": {},
   "outputs": [
    {
     "name": "stdout",
     "output_type": "stream",
     "text": [
      "Cross Validation Mean Score:  0.9251723104584956\n"
     ]
    }
   ],
   "source": [
    "from sklearn.model_selection import cross_val_score\n",
    "\n",
    "cvs = cross_val_score(estimator = dtc, X = x_train, y = y_train.ravel(), cv = 10)\n",
    "print(\"Cross Validation Mean Score: \", cvs.mean())"
   ]
  },
  {
   "cell_type": "markdown",
   "id": "b9986f83",
   "metadata": {},
   "source": [
    "### Parameter Optimization"
   ]
  },
  {
   "cell_type": "code",
   "execution_count": 33,
   "id": "6113c243",
   "metadata": {},
   "outputs": [
    {
     "name": "stdout",
     "output_type": "stream",
     "text": [
      "En iyi Sonuç:  0.8899410648286883\n",
      "En iyi Parametreler:  {'criterion': 'gini', 'max_features': 'log2', 'splitter': 'best'}\n"
     ]
    }
   ],
   "source": [
    "from sklearn.model_selection import GridSearchCV\n",
    "\n",
    "parameters = [{'criterion': ['gini', 'entropy'], \n",
    "               'splitter': ['best', 'random'], \n",
    "               'max_features': ['auto', 'sqrt', 'log2']}]\n",
    "\n",
    "gs = GridSearchCV(estimator = dtc, \n",
    "                  param_grid = parameters, \n",
    "                  scoring = 'accuracy', \n",
    "                  cv = 10, \n",
    "                  n_jobs = -1)\n",
    "\n",
    "grid_search = gs.fit(x_train, y_train.ravel())\n",
    "\n",
    "best_result = grid_search.best_score_\n",
    "best_parameters = grid_search.best_params_\n",
    "\n",
    "print(\"En iyi Sonuç: \", best_result)\n",
    "print(\"En iyi Parametreler: \", best_parameters)"
   ]
  },
  {
   "cell_type": "markdown",
   "id": "b7692294",
   "metadata": {},
   "source": [
    "# Random Forest Classifier"
   ]
  },
  {
   "cell_type": "code",
   "execution_count": 34,
   "id": "25b0ae1b",
   "metadata": {},
   "outputs": [
    {
     "data": {
      "text/plain": [
       "RandomForestClassifier(n_estimators=30)"
      ]
     },
     "execution_count": 34,
     "metadata": {},
     "output_type": "execute_result"
    }
   ],
   "source": [
    "from sklearn.ensemble import RandomForestClassifier\n",
    "\n",
    "rfc = RandomForestClassifier(n_estimators = 30, criterion = 'gini')\n",
    "\n",
    "# Train Random Forest Classification Model\n",
    "rfc.fit(x_train, y_train.ravel())"
   ]
  },
  {
   "cell_type": "code",
   "execution_count": 35,
   "id": "768a9662",
   "metadata": {},
   "outputs": [],
   "source": [
    "y_pred = rfc.predict(x_test)"
   ]
  },
  {
   "cell_type": "code",
   "execution_count": 36,
   "id": "a67937d1",
   "metadata": {},
   "outputs": [
    {
     "data": {
      "image/png": "[encoded data removed]",
      "text/plain": [
       "<Figure size 432x288 with 2 Axes>"
      ]
     },
     "metadata": {
      "needs_background": "light"
     },
     "output_type": "display_data"
    },
    {
     "name": "stdout",
     "output_type": "stream",
     "text": [
      "              precision    recall  f1-score   support\n",
      "\n",
      "           0       0.97      0.98      0.98       395\n",
      "           1       0.62      0.57      0.59        37\n",
      "           2       0.67      0.57      0.62        28\n",
      "           3       0.95      0.96      0.95       239\n",
      "\n",
      "    accuracy                           0.94       699\n",
      "   macro avg       0.80      0.77      0.78       699\n",
      "weighted avg       0.93      0.94      0.94       699\n",
      "\n",
      "accuracy : 0.93705\n"
     ]
    }
   ],
   "source": [
    "from sklearn.metrics import confusion_matrix, classification_report, accuracy_score\n",
    "import seaborn as sns\n",
    "\n",
    "cm = confusion_matrix(y_test, y_pred)\n",
    "sns.heatmap(cm, annot=True, cmap='Blues')\n",
    "plt.title(\"Random Forest Classifier\")\n",
    "plt.show()\n",
    "\n",
    "# Classification Report\n",
    "clfReport = classification_report(y_test, y_pred, zero_division = 0)\n",
    "print(clfReport)\n",
    "\n",
    "score = accuracy_score(y_test, y_pred)\n",
    "print('accuracy :', '{:.5f}'.format(score))"
   ]
  },
  {
   "cell_type": "markdown",
   "id": "f361b0d8",
   "metadata": {},
   "source": [
    "### Cross Validation Score"
   ]
  },
  {
   "cell_type": "code",
   "execution_count": 37,
   "id": "2efa6dd3",
   "metadata": {},
   "outputs": [
    {
     "name": "stdout",
     "output_type": "stream",
     "text": [
      "Cross Validation Mean Score:  0.9046998301867945\n"
     ]
    }
   ],
   "source": [
    "from sklearn.model_selection import cross_val_score\n",
    "\n",
    "cvs = cross_val_score(estimator = rfc, X = x_train, y = y_train.ravel(), cv = 10)\n",
    "print(\"Cross Validation Mean Score: \", cvs.mean())"
   ]
  },
  {
   "cell_type": "markdown",
   "id": "37dbb3b7",
   "metadata": {},
   "source": [
    "### Parameter Optimization"
   ]
  },
  {
   "cell_type": "code",
   "execution_count": 39,
   "id": "5970fad3",
   "metadata": {},
   "outputs": [
    {
     "name": "stdout",
     "output_type": "stream",
     "text": [
      "En iyi Sonuç:  0.9152881829987013\n",
      "En iyi Parametreler:  {'class_weight': 'balanced', 'criterion': 'gini', 'max_features': 'sqrt', 'n_estimators': 31}\n"
     ]
    },
    {
     "name": "stderr",
     "output_type": "stream",
     "text": [
      "C:\\ProgramData\\Anaconda3\\lib\\site-packages\\sklearn\\model_selection\\_search.py:918: UserWarning: One or more of the test scores are non-finite: [       nan 0.86658675 0.87364399 0.88915693 0.89413146 0.89552992\n",
      " 0.90326641 0.8983668  0.90046948 0.90400559 0.90752672 0.91244631\n",
      " 0.89904105 0.89977025 0.89550494 0.9039956  0.91033863 0.91387474\n",
      " 0.90539407 0.91317551 0.90328638 0.90891519 0.90187793 0.90894017\n",
      " 0.91246629 0.90541404 0.9131855  0.90610828 0.90962441 0.90541404\n",
      " 0.91106283 0.90611827 0.91106283 0.90681251 0.91175707        nan\n",
      " 0.89837179 0.88847767 0.88140046 0.8856358  0.90399061 0.89833183\n",
      " 0.9096394  0.89835181 0.90185296 0.9011787  0.89904605 0.90187793\n",
      " 0.90469983 0.9075417  0.90612826 0.90612826 0.91105284 0.9075467\n",
      " 0.90892518 0.91458396 0.90612326 0.90470482 0.90679253 0.9060933\n",
      " 0.9060933  0.90613325 0.90822096 0.90469983 0.90680751 0.90960943\n",
      " 0.91528818 0.91175707 0.90964939 0.91035361        nan 0.87858855\n",
      " 0.87926281 0.88566577 0.89339227 0.89058036 0.90187294 0.90047448\n",
      " 0.90683248 0.89622915 0.90115873 0.89835181 0.90188293 0.90749176\n",
      " 0.90470982 0.9096394  0.9068175  0.90044451 0.91032864 0.91105784\n",
      " 0.91033363 0.91104285 0.9032714  0.90679253 0.90821596 0.90821596\n",
      " 0.9039956  0.89975527 0.91105784 0.91176206 0.91106783 0.90751174\n",
      " 0.90751673 0.90893517 0.90116372        nan 0.87086205 0.880002\n",
      " 0.89129957 0.88777844 0.89485066 0.89621916 0.90329138 0.89833183\n",
      " 0.90258216 0.90258715 0.90328638 0.90329637 0.90681251 0.90328139\n",
      " 0.89835681 0.91103786 0.90538907 0.90398062 0.90258216 0.90751174\n",
      " 0.91456897 0.90538907 0.91105784 0.90964939 0.91246629 0.90893018\n",
      " 0.91388473 0.90820098 0.90962441 0.90470982 0.91033863 0.91105284\n",
      " 0.90823095 0.91033363        nan 0.87430826 0.87717511 0.89484567\n",
      " 0.89835681 0.90043952 0.89271801 0.90047947 0.89765258 0.89835681\n",
      " 0.90823594 0.90468984 0.90328139 0.91104285 0.90468984 0.90258216\n",
      " 0.9047298  0.90469983 0.90753671 0.90044951 0.90824593 0.90612326\n",
      " 0.90467985 0.90680751 0.90822096 0.91246129 0.90893018 0.90823095\n",
      " 0.90539906 0.9096394  0.91034362 0.90187793 0.9068175  0.91244131\n",
      " 0.90680252        nan 0.87927779 0.86587753 0.8849066  0.88704925\n",
      " 0.89977025 0.90046449 0.90186795 0.89834182 0.90258715 0.90397563\n",
      " 0.90186795 0.9032764  0.9089052  0.90541904 0.9032714  0.90188293\n",
      " 0.8955449  0.9124513  0.90612826 0.90398562 0.90894017 0.91315553\n",
      " 0.90821596 0.90892518 0.90468485 0.90752672 0.91035861 0.90961442\n",
      " 0.90609829 0.90610828 0.91527819 0.90330137 0.90469484 0.91457397\n",
      "        nan 0.87228549 0.87152632 0.89196883 0.89058536 0.89765758\n",
      " 0.90118869 0.89904605 0.89410648 0.9068225  0.89693337 0.90328139\n",
      " 0.90048447 0.9089102  0.90188792 0.90466986 0.90823594 0.9039956\n",
      " 0.90750175 0.90680751 0.90186795 0.90965438 0.90824093 0.91246129\n",
      " 0.9124513  0.90753671 0.90822595 0.90895515 0.90821097 0.91107282\n",
      " 0.90893517 0.90821097 0.90895015 0.90964439 0.90895015        nan\n",
      " 0.8722705  0.87223554 0.88916192 0.88637499 0.90046948 0.8891819\n",
      " 0.89199381 0.90539407 0.90256218 0.89692338 0.9011837  0.89906103\n",
      " 0.90186795 0.90613825 0.90186795 0.90964439 0.90046449 0.90539407\n",
      " 0.9103636  0.90750674 0.90823095 0.91033863 0.90752672 0.91106283\n",
      " 0.90751174 0.90681251 0.90749675 0.90821596 0.9103636  0.91176206\n",
      " 0.90258216 0.90611328 0.91105784 0.9096394         nan 0.87225552\n",
      " 0.86449905 0.88423234 0.89623414 0.89059535 0.88988113 0.89975527\n",
      " 0.90257717 0.89834182 0.89903107 0.90117371 0.9040006  0.90187793\n",
      " 0.90610329 0.90539407 0.90469983 0.90611827 0.91176206 0.91319548\n",
      " 0.90328139 0.90468485 0.90610329 0.90256218 0.90401059 0.90964439\n",
      " 0.90540406 0.90539407 0.90540905 0.90964439 0.90965937 0.90680751\n",
      " 0.91175707 0.90328139 0.91033863        nan 0.87368894 0.86730596\n",
      " 0.88071621 0.88494656 0.88704925 0.8948157  0.88986615 0.90609829\n",
      " 0.90964939 0.90189791 0.90259215 0.90048447 0.90255219 0.90187793\n",
      " 0.90117371 0.90115873 0.91175207 0.90186795 0.90682749 0.90328139\n",
      " 0.90399061 0.90047448 0.90823594 0.9039956  0.90538907 0.91174708\n",
      " 0.90894017 0.90752173 0.90821596 0.91033363 0.90822595 0.90115873\n",
      " 0.90893018 0.91246129        nan 0.886365   0.8828189  0.89695835\n",
      " 0.89128958 0.90119868 0.89268305 0.89977525 0.9039956  0.90680751\n",
      " 0.9032764  0.90258715 0.90399061 0.90964439 0.90890021 0.89976026\n",
      " 0.9032764  0.90751174 0.90539906 0.90751174 0.91247628 0.89976526\n",
      " 0.90396564 0.90469983 0.90611328 0.90962441 0.90256718 0.90751673\n",
      " 0.91316052 0.90751174 0.90679752 0.91175707 0.9039956  0.90468984\n",
      " 0.90611827        nan 0.87648087 0.88283888 0.89904605 0.88705424\n",
      " 0.89197882 0.90400559 0.89127959 0.89976526 0.90328139 0.89833683\n",
      " 0.90330137 0.90188293 0.90541404 0.90821596 0.90891519 0.89905104\n",
      " 0.91104785 0.9075467  0.90539906 0.91316052 0.91246129 0.90328638\n",
      " 0.90823095 0.90895015 0.90891519 0.90893517 0.90609829 0.9096344\n",
      " 0.91387973 0.91247628 0.90893018 0.9131805  0.90540406 0.91173709]\n",
      "  warnings.warn(\n"
     ]
    }
   ],
   "source": [
    "from sklearn.model_selection import GridSearchCV\n",
    "\n",
    "parameters = [{'n_estimators': [i for i in range(35)], \n",
    "               'criterion': ['gini', 'entropy'], \n",
    "               'max_features': ['auto', 'sqrt', 'log2'], \n",
    "               'class_weight': ['balanced', 'balanced_subsample']}]\n",
    "\n",
    "gs = GridSearchCV(estimator = rfc, \n",
    "                  param_grid = parameters, \n",
    "                  scoring = 'accuracy', \n",
    "                  cv = 10, \n",
    "                  n_jobs = -1)\n",
    "\n",
    "grid_search = gs.fit(x_train, y_train.ravel())\n",
    "\n",
    "best_result = grid_search.best_score_\n",
    "best_parameters = grid_search.best_params_\n",
    "\n",
    "print(\"En iyi Sonuç: \", best_result)\n",
    "print(\"En iyi Parametreler: \", best_parameters)"
   ]
  },
  {
   "cell_type": "code",
   "execution_count": null,
   "id": "668d74a4",
   "metadata": {},
   "outputs": [],
   "source": []
  }
 ],
 "metadata": {
  "kernelspec": {
   "display_name": "Python 3",
   "language": "python",
   "name": "python3"
  },
  "language_info": {
   "codemirror_mode": {
    "name": "ipython",
    "version": 3
   },
   "file_extension": ".py",
   "mimetype": "text/x-python",
   "name": "python",
   "nbconvert_exporter": "python",
   "pygments_lexer": "ipython3",
   "version": "3.8.8"
  }
 },
 "nbformat": 4,
 "nbformat_minor": 5
}
