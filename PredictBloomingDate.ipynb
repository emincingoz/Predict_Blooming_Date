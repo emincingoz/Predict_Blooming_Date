{
 "cells": [
  {
   "cell_type": "markdown",
   "id": "94fc3f9d",
   "metadata": {},
   "source": [
    "# Predict Blooming Date with scikit-learn"
   ]
  },
  {
   "cell_type": "code",
   "execution_count": 1,
   "id": "da4d9c62",
   "metadata": {},
   "outputs": [],
   "source": [
    "# Import Libraries\n",
    "import numpy as np\n",
    "import pandas as pd\n",
    "import matplotlib.pyplot as plt"
   ]
  },
  {
   "cell_type": "code",
   "execution_count": 2,
   "id": "a4f8ee90",
   "metadata": {},
   "outputs": [
    {
     "data": {
      "text/html": [
       "<div>\n",
       "<style scoped>\n",
       "    .dataframe tbody tr th:only-of-type {\n",
       "        vertical-align: middle;\n",
       "    }\n",
       "\n",
       "    .dataframe tbody tr th {\n",
       "        vertical-align: top;\n",
       "    }\n",
       "\n",
       "    .dataframe thead th {\n",
       "        text-align: right;\n",
       "    }\n",
       "</style>\n",
       "<table border=\"1\" class=\"dataframe\">\n",
       "  <thead>\n",
       "    <tr style=\"text-align: right;\">\n",
       "      <th></th>\n",
       "      <th>date</th>\n",
       "      <th>temperature</th>\n",
       "      <th>flower_status</th>\n",
       "    </tr>\n",
       "  </thead>\n",
       "  <tbody>\n",
       "    <tr>\n",
       "      <th>0</th>\n",
       "      <td>1997/1/1</td>\n",
       "      <td>2.9</td>\n",
       "      <td>NaN</td>\n",
       "    </tr>\n",
       "    <tr>\n",
       "      <th>1</th>\n",
       "      <td>1997/1/2</td>\n",
       "      <td>2.2</td>\n",
       "      <td>NaN</td>\n",
       "    </tr>\n",
       "    <tr>\n",
       "      <th>2</th>\n",
       "      <td>1997/1/3</td>\n",
       "      <td>-1.6</td>\n",
       "      <td>NaN</td>\n",
       "    </tr>\n",
       "    <tr>\n",
       "      <th>3</th>\n",
       "      <td>1997/1/4</td>\n",
       "      <td>0.2</td>\n",
       "      <td>NaN</td>\n",
       "    </tr>\n",
       "    <tr>\n",
       "      <th>4</th>\n",
       "      <td>1997/1/5</td>\n",
       "      <td>-0.4</td>\n",
       "      <td>NaN</td>\n",
       "    </tr>\n",
       "  </tbody>\n",
       "</table>\n",
       "</div>"
      ],
      "text/plain": [
       "       date  temperature flower_status\n",
       "0  1997/1/1          2.9           NaN\n",
       "1  1997/1/2          2.2           NaN\n",
       "2  1997/1/3         -1.6           NaN\n",
       "3  1997/1/4          0.2           NaN\n",
       "4  1997/1/5         -0.4           NaN"
      ]
     },
     "execution_count": 2,
     "metadata": {},
     "output_type": "execute_result"
    }
   ],
   "source": [
    "# Import dataset\n",
    "data = pd.read_csv('hirosaki_temp_cherry_bloom.csv')\n",
    "data.head()"
   ]
  },
  {
   "cell_type": "markdown",
   "id": "e40994e0",
   "metadata": {},
   "source": [
    "## Split date to year, month and day"
   ]
  },
  {
   "cell_type": "code",
   "execution_count": 3,
   "id": "db1af8e5",
   "metadata": {},
   "outputs": [
    {
     "data": {
      "text/html": [
       "<div>\n",
       "<style scoped>\n",
       "    .dataframe tbody tr th:only-of-type {\n",
       "        vertical-align: middle;\n",
       "    }\n",
       "\n",
       "    .dataframe tbody tr th {\n",
       "        vertical-align: top;\n",
       "    }\n",
       "\n",
       "    .dataframe thead th {\n",
       "        text-align: right;\n",
       "    }\n",
       "</style>\n",
       "<table border=\"1\" class=\"dataframe\">\n",
       "  <thead>\n",
       "    <tr style=\"text-align: right;\">\n",
       "      <th></th>\n",
       "      <th>temperature</th>\n",
       "      <th>flower_status</th>\n",
       "      <th>year</th>\n",
       "      <th>month</th>\n",
       "      <th>day</th>\n",
       "    </tr>\n",
       "  </thead>\n",
       "  <tbody>\n",
       "    <tr>\n",
       "      <th>0</th>\n",
       "      <td>2.9</td>\n",
       "      <td>NaN</td>\n",
       "      <td>1997</td>\n",
       "      <td>1</td>\n",
       "      <td>1</td>\n",
       "    </tr>\n",
       "    <tr>\n",
       "      <th>1</th>\n",
       "      <td>2.2</td>\n",
       "      <td>NaN</td>\n",
       "      <td>1997</td>\n",
       "      <td>1</td>\n",
       "      <td>2</td>\n",
       "    </tr>\n",
       "    <tr>\n",
       "      <th>2</th>\n",
       "      <td>-1.6</td>\n",
       "      <td>NaN</td>\n",
       "      <td>1997</td>\n",
       "      <td>1</td>\n",
       "      <td>3</td>\n",
       "    </tr>\n",
       "    <tr>\n",
       "      <th>3</th>\n",
       "      <td>0.2</td>\n",
       "      <td>NaN</td>\n",
       "      <td>1997</td>\n",
       "      <td>1</td>\n",
       "      <td>4</td>\n",
       "    </tr>\n",
       "    <tr>\n",
       "      <th>4</th>\n",
       "      <td>-0.4</td>\n",
       "      <td>NaN</td>\n",
       "      <td>1997</td>\n",
       "      <td>1</td>\n",
       "      <td>5</td>\n",
       "    </tr>\n",
       "    <tr>\n",
       "      <th>...</th>\n",
       "      <td>...</td>\n",
       "      <td>...</td>\n",
       "      <td>...</td>\n",
       "      <td>...</td>\n",
       "      <td>...</td>\n",
       "    </tr>\n",
       "    <tr>\n",
       "      <th>8395</th>\n",
       "      <td>-0.2</td>\n",
       "      <td>NaN</td>\n",
       "      <td>2019</td>\n",
       "      <td>12</td>\n",
       "      <td>27</td>\n",
       "    </tr>\n",
       "    <tr>\n",
       "      <th>8396</th>\n",
       "      <td>-1.3</td>\n",
       "      <td>NaN</td>\n",
       "      <td>2019</td>\n",
       "      <td>12</td>\n",
       "      <td>28</td>\n",
       "    </tr>\n",
       "    <tr>\n",
       "      <th>8397</th>\n",
       "      <td>-0.6</td>\n",
       "      <td>NaN</td>\n",
       "      <td>2019</td>\n",
       "      <td>12</td>\n",
       "      <td>29</td>\n",
       "    </tr>\n",
       "    <tr>\n",
       "      <th>8398</th>\n",
       "      <td>1.8</td>\n",
       "      <td>NaN</td>\n",
       "      <td>2019</td>\n",
       "      <td>12</td>\n",
       "      <td>30</td>\n",
       "    </tr>\n",
       "    <tr>\n",
       "      <th>8399</th>\n",
       "      <td>-0.2</td>\n",
       "      <td>NaN</td>\n",
       "      <td>2019</td>\n",
       "      <td>12</td>\n",
       "      <td>31</td>\n",
       "    </tr>\n",
       "  </tbody>\n",
       "</table>\n",
       "<p>8400 rows × 5 columns</p>\n",
       "</div>"
      ],
      "text/plain": [
       "      temperature flower_status  year  month  day\n",
       "0             2.9           NaN  1997      1    1\n",
       "1             2.2           NaN  1997      1    2\n",
       "2            -1.6           NaN  1997      1    3\n",
       "3             0.2           NaN  1997      1    4\n",
       "4            -0.4           NaN  1997      1    5\n",
       "...           ...           ...   ...    ...  ...\n",
       "8395         -0.2           NaN  2019     12   27\n",
       "8396         -1.3           NaN  2019     12   28\n",
       "8397         -0.6           NaN  2019     12   29\n",
       "8398          1.8           NaN  2019     12   30\n",
       "8399         -0.2           NaN  2019     12   31\n",
       "\n",
       "[8400 rows x 5 columns]"
      ]
     },
     "execution_count": 3,
     "metadata": {},
     "output_type": "execute_result"
    }
   ],
   "source": [
    "year = []\n",
    "month = []\n",
    "day = []\n",
    "date = data.iloc[:,0].values\n",
    "for i in range(len(date)):\n",
    "    str = date[i]\n",
    "    temp = str.split('/', 1)\n",
    "    year.append(int(temp[0]))\n",
    "    month.append(int(temp[1].split('/', 1)[0]))\n",
    "    day.append(int(temp[1].split('/', 1)[1]))\n",
    "    \n",
    "data['year'] = year\n",
    "data['month'] = month\n",
    "data['day'] = day\n",
    "\n",
    "data.drop('date', axis = 1, inplace = True)       # date, gün, ay, yıl verilerine ayrıldı. Artık date'e gerek yok\n",
    "data"
   ]
  },
  {
   "cell_type": "markdown",
   "id": "68ec7e75",
   "metadata": {},
   "source": [
    "## Missing Values"
   ]
  },
  {
   "cell_type": "code",
   "execution_count": 4,
   "id": "b8f5a1a2",
   "metadata": {},
   "outputs": [
    {
     "data": {
      "text/plain": [
       "temperature         0\n",
       "flower_status    8331\n",
       "year                0\n",
       "month               0\n",
       "day                 0\n",
       "dtype: int64"
      ]
     },
     "execution_count": 4,
     "metadata": {},
     "output_type": "execute_result"
    }
   ],
   "source": [
    "data.isnull().sum()"
   ]
  },
  {
   "cell_type": "code",
   "execution_count": 5,
   "id": "de453869",
   "metadata": {},
   "outputs": [
    {
     "data": {
      "text/html": [
       "<div>\n",
       "<style scoped>\n",
       "    .dataframe tbody tr th:only-of-type {\n",
       "        vertical-align: middle;\n",
       "    }\n",
       "\n",
       "    .dataframe tbody tr th {\n",
       "        vertical-align: top;\n",
       "    }\n",
       "\n",
       "    .dataframe thead th {\n",
       "        text-align: right;\n",
       "    }\n",
       "</style>\n",
       "<table border=\"1\" class=\"dataframe\">\n",
       "  <thead>\n",
       "    <tr style=\"text-align: right;\">\n",
       "      <th></th>\n",
       "      <th>temperature</th>\n",
       "      <th>year</th>\n",
       "      <th>month</th>\n",
       "      <th>day</th>\n",
       "      <th>flower_status</th>\n",
       "    </tr>\n",
       "  </thead>\n",
       "  <tbody>\n",
       "    <tr>\n",
       "      <th>0</th>\n",
       "      <td>2.9</td>\n",
       "      <td>1997</td>\n",
       "      <td>1</td>\n",
       "      <td>1</td>\n",
       "      <td>0</td>\n",
       "    </tr>\n",
       "    <tr>\n",
       "      <th>1</th>\n",
       "      <td>2.2</td>\n",
       "      <td>1997</td>\n",
       "      <td>1</td>\n",
       "      <td>2</td>\n",
       "      <td>0</td>\n",
       "    </tr>\n",
       "    <tr>\n",
       "      <th>2</th>\n",
       "      <td>-1.6</td>\n",
       "      <td>1997</td>\n",
       "      <td>1</td>\n",
       "      <td>3</td>\n",
       "      <td>0</td>\n",
       "    </tr>\n",
       "    <tr>\n",
       "      <th>3</th>\n",
       "      <td>0.2</td>\n",
       "      <td>1997</td>\n",
       "      <td>1</td>\n",
       "      <td>4</td>\n",
       "      <td>0</td>\n",
       "    </tr>\n",
       "    <tr>\n",
       "      <th>4</th>\n",
       "      <td>-0.4</td>\n",
       "      <td>1997</td>\n",
       "      <td>1</td>\n",
       "      <td>5</td>\n",
       "      <td>0</td>\n",
       "    </tr>\n",
       "    <tr>\n",
       "      <th>...</th>\n",
       "      <td>...</td>\n",
       "      <td>...</td>\n",
       "      <td>...</td>\n",
       "      <td>...</td>\n",
       "      <td>...</td>\n",
       "    </tr>\n",
       "    <tr>\n",
       "      <th>8395</th>\n",
       "      <td>-0.2</td>\n",
       "      <td>2019</td>\n",
       "      <td>12</td>\n",
       "      <td>27</td>\n",
       "      <td>3</td>\n",
       "    </tr>\n",
       "    <tr>\n",
       "      <th>8396</th>\n",
       "      <td>-1.3</td>\n",
       "      <td>2019</td>\n",
       "      <td>12</td>\n",
       "      <td>28</td>\n",
       "      <td>3</td>\n",
       "    </tr>\n",
       "    <tr>\n",
       "      <th>8397</th>\n",
       "      <td>-0.6</td>\n",
       "      <td>2019</td>\n",
       "      <td>12</td>\n",
       "      <td>29</td>\n",
       "      <td>3</td>\n",
       "    </tr>\n",
       "    <tr>\n",
       "      <th>8398</th>\n",
       "      <td>1.8</td>\n",
       "      <td>2019</td>\n",
       "      <td>12</td>\n",
       "      <td>30</td>\n",
       "      <td>3</td>\n",
       "    </tr>\n",
       "    <tr>\n",
       "      <th>8399</th>\n",
       "      <td>-0.2</td>\n",
       "      <td>2019</td>\n",
       "      <td>12</td>\n",
       "      <td>31</td>\n",
       "      <td>3</td>\n",
       "    </tr>\n",
       "  </tbody>\n",
       "</table>\n",
       "<p>8400 rows × 5 columns</p>\n",
       "</div>"
      ],
      "text/plain": [
       "      temperature  year  month  day flower_status\n",
       "0             2.9  1997      1    1             0\n",
       "1             2.2  1997      1    2             0\n",
       "2            -1.6  1997      1    3             0\n",
       "3             0.2  1997      1    4             0\n",
       "4            -0.4  1997      1    5             0\n",
       "...           ...   ...    ...  ...           ...\n",
       "8395         -0.2  2019     12   27             3\n",
       "8396         -1.3  2019     12   28             3\n",
       "8397         -0.6  2019     12   29             3\n",
       "8398          1.8  2019     12   30             3\n",
       "8399         -0.2  2019     12   31             3\n",
       "\n",
       "[8400 rows x 5 columns]"
      ]
     },
     "execution_count": 5,
     "metadata": {},
     "output_type": "execute_result"
    }
   ],
   "source": [
    "flower_status = data.iloc[:, 1:2].values\n",
    "data.drop('flower_status', axis = 1, inplace = True)\n",
    "for i in range(len(flower_status)):\n",
    "    month, day = data['month'][i], data['day'][i]\n",
    "    if month == 1 and day == 1:\n",
    "        status = 0                                 # Before Blooming\n",
    "    else:\n",
    "        if flower_status[i] == \"bloom\":            \n",
    "            status = 1                             # Bloom\n",
    "        elif flower_status[i] == \"full\":           \n",
    "            status = 2                             # Full Bloom\n",
    "        elif flower_status[i] == \"scatter\":        \n",
    "            status = 3                             # Scatter\n",
    "    flower_status[i] = status\n",
    "    \n",
    "data['flower_status'] = flower_status\n",
    "data"
   ]
  },
  {
   "cell_type": "markdown",
   "id": "43f2acde",
   "metadata": {},
   "source": [
    "## Data Preprocessing"
   ]
  },
  {
   "cell_type": "code",
   "execution_count": 6,
   "id": "e88de5af",
   "metadata": {},
   "outputs": [
    {
     "data": {
      "text/html": [
       "<div>\n",
       "<style scoped>\n",
       "    .dataframe tbody tr th:only-of-type {\n",
       "        vertical-align: middle;\n",
       "    }\n",
       "\n",
       "    .dataframe tbody tr th {\n",
       "        vertical-align: top;\n",
       "    }\n",
       "\n",
       "    .dataframe thead th {\n",
       "        text-align: right;\n",
       "    }\n",
       "</style>\n",
       "<table border=\"1\" class=\"dataframe\">\n",
       "  <thead>\n",
       "    <tr style=\"text-align: right;\">\n",
       "      <th></th>\n",
       "      <th>temperature</th>\n",
       "      <th>year</th>\n",
       "      <th>month</th>\n",
       "      <th>day</th>\n",
       "      <th>flower_status</th>\n",
       "    </tr>\n",
       "  </thead>\n",
       "  <tbody>\n",
       "    <tr>\n",
       "      <th>0</th>\n",
       "      <td>2.4</td>\n",
       "      <td>1997</td>\n",
       "      <td>3</td>\n",
       "      <td>1</td>\n",
       "      <td>0</td>\n",
       "    </tr>\n",
       "    <tr>\n",
       "      <th>1</th>\n",
       "      <td>-2.4</td>\n",
       "      <td>1997</td>\n",
       "      <td>3</td>\n",
       "      <td>2</td>\n",
       "      <td>0</td>\n",
       "    </tr>\n",
       "    <tr>\n",
       "      <th>2</th>\n",
       "      <td>-4.0</td>\n",
       "      <td>1997</td>\n",
       "      <td>3</td>\n",
       "      <td>3</td>\n",
       "      <td>0</td>\n",
       "    </tr>\n",
       "    <tr>\n",
       "      <th>3</th>\n",
       "      <td>-1.1</td>\n",
       "      <td>1997</td>\n",
       "      <td>3</td>\n",
       "      <td>4</td>\n",
       "      <td>0</td>\n",
       "    </tr>\n",
       "    <tr>\n",
       "      <th>4</th>\n",
       "      <td>0.3</td>\n",
       "      <td>1997</td>\n",
       "      <td>3</td>\n",
       "      <td>5</td>\n",
       "      <td>0</td>\n",
       "    </tr>\n",
       "    <tr>\n",
       "      <th>...</th>\n",
       "      <td>...</td>\n",
       "      <td>...</td>\n",
       "      <td>...</td>\n",
       "      <td>...</td>\n",
       "      <td>...</td>\n",
       "    </tr>\n",
       "    <tr>\n",
       "      <th>2111</th>\n",
       "      <td>24.0</td>\n",
       "      <td>2019</td>\n",
       "      <td>5</td>\n",
       "      <td>27</td>\n",
       "      <td>3</td>\n",
       "    </tr>\n",
       "    <tr>\n",
       "      <th>2112</th>\n",
       "      <td>19.0</td>\n",
       "      <td>2019</td>\n",
       "      <td>5</td>\n",
       "      <td>28</td>\n",
       "      <td>3</td>\n",
       "    </tr>\n",
       "    <tr>\n",
       "      <th>2113</th>\n",
       "      <td>16.1</td>\n",
       "      <td>2019</td>\n",
       "      <td>5</td>\n",
       "      <td>29</td>\n",
       "      <td>3</td>\n",
       "    </tr>\n",
       "    <tr>\n",
       "      <th>2114</th>\n",
       "      <td>19.0</td>\n",
       "      <td>2019</td>\n",
       "      <td>5</td>\n",
       "      <td>30</td>\n",
       "      <td>3</td>\n",
       "    </tr>\n",
       "    <tr>\n",
       "      <th>2115</th>\n",
       "      <td>17.3</td>\n",
       "      <td>2019</td>\n",
       "      <td>5</td>\n",
       "      <td>31</td>\n",
       "      <td>3</td>\n",
       "    </tr>\n",
       "  </tbody>\n",
       "</table>\n",
       "<p>2116 rows × 5 columns</p>\n",
       "</div>"
      ],
      "text/plain": [
       "      temperature  year  month  day flower_status\n",
       "0             2.4  1997      3    1             0\n",
       "1            -2.4  1997      3    2             0\n",
       "2            -4.0  1997      3    3             0\n",
       "3            -1.1  1997      3    4             0\n",
       "4             0.3  1997      3    5             0\n",
       "...           ...   ...    ...  ...           ...\n",
       "2111         24.0  2019      5   27             3\n",
       "2112         19.0  2019      5   28             3\n",
       "2113         16.1  2019      5   29             3\n",
       "2114         19.0  2019      5   30             3\n",
       "2115         17.3  2019      5   31             3\n",
       "\n",
       "[2116 rows x 5 columns]"
      ]
     },
     "execution_count": 6,
     "metadata": {},
     "output_type": "execute_result"
    }
   ],
   "source": [
    "# Extract Data\n",
    "for i in range(len(data)):\n",
    "    month = data['month'][i]\n",
    "    if month != 3 and month != 4 and month != 5:    #  and month != 6\n",
    "        data.drop([i], axis = 0, inplace = True)\n",
    "        \n",
    "# Reindexing\n",
    "data = data.rename(index = {j: i for i, j in enumerate(data.index)})\n",
    "data"
   ]
  },
  {
   "cell_type": "code",
   "execution_count": 7,
   "id": "34d08aa7",
   "metadata": {},
   "outputs": [
    {
     "data": {
      "text/html": [
       "<div>\n",
       "<style scoped>\n",
       "    .dataframe tbody tr th:only-of-type {\n",
       "        vertical-align: middle;\n",
       "    }\n",
       "\n",
       "    .dataframe tbody tr th {\n",
       "        vertical-align: top;\n",
       "    }\n",
       "\n",
       "    .dataframe thead th {\n",
       "        text-align: right;\n",
       "    }\n",
       "</style>\n",
       "<table border=\"1\" class=\"dataframe\">\n",
       "  <thead>\n",
       "    <tr style=\"text-align: right;\">\n",
       "      <th></th>\n",
       "      <th>month</th>\n",
       "      <th>day</th>\n",
       "      <th>temperature</th>\n",
       "      <th>temp_accum</th>\n",
       "      <th>flower_status</th>\n",
       "    </tr>\n",
       "  </thead>\n",
       "  <tbody>\n",
       "    <tr>\n",
       "      <th>0</th>\n",
       "      <td>3</td>\n",
       "      <td>1</td>\n",
       "      <td>2.4</td>\n",
       "      <td>2.4</td>\n",
       "      <td>0</td>\n",
       "    </tr>\n",
       "    <tr>\n",
       "      <th>1</th>\n",
       "      <td>3</td>\n",
       "      <td>2</td>\n",
       "      <td>-2.4</td>\n",
       "      <td>0.0</td>\n",
       "      <td>0</td>\n",
       "    </tr>\n",
       "    <tr>\n",
       "      <th>2</th>\n",
       "      <td>3</td>\n",
       "      <td>3</td>\n",
       "      <td>-4.0</td>\n",
       "      <td>-4.0</td>\n",
       "      <td>0</td>\n",
       "    </tr>\n",
       "    <tr>\n",
       "      <th>3</th>\n",
       "      <td>3</td>\n",
       "      <td>4</td>\n",
       "      <td>-1.1</td>\n",
       "      <td>-5.1</td>\n",
       "      <td>0</td>\n",
       "    </tr>\n",
       "    <tr>\n",
       "      <th>4</th>\n",
       "      <td>3</td>\n",
       "      <td>5</td>\n",
       "      <td>0.3</td>\n",
       "      <td>-4.8</td>\n",
       "      <td>0</td>\n",
       "    </tr>\n",
       "    <tr>\n",
       "      <th>...</th>\n",
       "      <td>...</td>\n",
       "      <td>...</td>\n",
       "      <td>...</td>\n",
       "      <td>...</td>\n",
       "      <td>...</td>\n",
       "    </tr>\n",
       "    <tr>\n",
       "      <th>2111</th>\n",
       "      <td>5</td>\n",
       "      <td>27</td>\n",
       "      <td>24.0</td>\n",
       "      <td>17950.3</td>\n",
       "      <td>3</td>\n",
       "    </tr>\n",
       "    <tr>\n",
       "      <th>2112</th>\n",
       "      <td>5</td>\n",
       "      <td>28</td>\n",
       "      <td>19.0</td>\n",
       "      <td>17969.3</td>\n",
       "      <td>3</td>\n",
       "    </tr>\n",
       "    <tr>\n",
       "      <th>2113</th>\n",
       "      <td>5</td>\n",
       "      <td>29</td>\n",
       "      <td>16.1</td>\n",
       "      <td>17985.4</td>\n",
       "      <td>3</td>\n",
       "    </tr>\n",
       "    <tr>\n",
       "      <th>2114</th>\n",
       "      <td>5</td>\n",
       "      <td>30</td>\n",
       "      <td>19.0</td>\n",
       "      <td>18004.4</td>\n",
       "      <td>3</td>\n",
       "    </tr>\n",
       "    <tr>\n",
       "      <th>2115</th>\n",
       "      <td>5</td>\n",
       "      <td>31</td>\n",
       "      <td>17.3</td>\n",
       "      <td>18021.7</td>\n",
       "      <td>3</td>\n",
       "    </tr>\n",
       "  </tbody>\n",
       "</table>\n",
       "<p>2116 rows × 5 columns</p>\n",
       "</div>"
      ],
      "text/plain": [
       "      month  day  temperature  temp_accum  flower_status\n",
       "0         3    1          2.4         2.4              0\n",
       "1         3    2         -2.4         0.0              0\n",
       "2         3    3         -4.0        -4.0              0\n",
       "3         3    4         -1.1        -5.1              0\n",
       "4         3    5          0.3        -4.8              0\n",
       "...     ...  ...          ...         ...            ...\n",
       "2111      5   27         24.0     17950.3              3\n",
       "2112      5   28         19.0     17969.3              3\n",
       "2113      5   29         16.1     17985.4              3\n",
       "2114      5   30         19.0     18004.4              3\n",
       "2115      5   31         17.3     18021.7              3\n",
       "\n",
       "[2116 rows x 5 columns]"
      ]
     },
     "execution_count": 7,
     "metadata": {},
     "output_type": "execute_result"
    }
   ],
   "source": [
    "# Take cumulative temperature and add data column\n",
    "newdata = []\n",
    "accumulated_temp = 0\n",
    "for i in range(len(data)):\n",
    "    month, day = data['month'][i], data['day'][i]\n",
    "    if month == '4' and day == '1':\n",
    "        accumulated_temp = 0\n",
    "    temp = data['temperature'][i]\n",
    "    accumulated_temp += temp\n",
    "    status = data['flower_status'][i]\n",
    "    row = {'month':month, 'day':day, 'temperature':temp, 'temp_accum':accumulated_temp, 'flower_status':status}\n",
    "    newdata.append(row)\n",
    "newdata = pd.DataFrame(newdata)\n",
    "newdata"
   ]
  },
  {
   "cell_type": "markdown",
   "id": "9349e52d",
   "metadata": {},
   "source": [
    "## Data Slicing and Reshaping"
   ]
  },
  {
   "cell_type": "code",
   "execution_count": 8,
   "id": "44103d84",
   "metadata": {},
   "outputs": [],
   "source": [
    "x = newdata.drop(['flower_status'], axis = 1)\n",
    "y = newdata.iloc[:, 4:].values\n",
    "x = x.astype('float32')                      # temperature, day, month, year\n",
    "y = y.astype('int32')                        # flower_status"
   ]
  },
  {
   "cell_type": "markdown",
   "id": "86485224",
   "metadata": {},
   "source": [
    "### Feature Scaling"
   ]
  },
  {
   "cell_type": "code",
   "execution_count": 9,
   "id": "014541b0",
   "metadata": {},
   "outputs": [],
   "source": [
    "from sklearn.preprocessing import RobustScaler\n",
    "\n",
    "scaler_robust = RobustScaler()\n",
    "X_robust = scaler_robust.fit_transform(x)"
   ]
  },
  {
   "cell_type": "code",
   "execution_count": 10,
   "id": "f0a418b0",
   "metadata": {},
   "outputs": [],
   "source": [
    "from sklearn.model_selection import train_test_split\n",
    "\n",
    "x_train, x_test, y_train, y_test = train_test_split(X_robust, y, test_size = 0.33, random_state = 0)"
   ]
  },
  {
   "cell_type": "markdown",
   "id": "7e31b90f",
   "metadata": {},
   "source": [
    "# Logistic Regression"
   ]
  },
  {
   "cell_type": "code",
   "execution_count": 11,
   "id": "53e78377",
   "metadata": {},
   "outputs": [
    {
     "data": {
      "text/plain": [
       "LogisticRegression(random_state=0)"
      ]
     },
     "execution_count": 11,
     "metadata": {},
     "output_type": "execute_result"
    }
   ],
   "source": [
    "from sklearn.linear_model import LogisticRegression\n",
    "\n",
    "logr = LogisticRegression(random_state = 0)\n",
    "\n",
    "# Train logistic regression model \n",
    "logr.fit(x_train, y_train.ravel())"
   ]
  },
  {
   "cell_type": "code",
   "execution_count": 12,
   "id": "7e0e28da",
   "metadata": {},
   "outputs": [],
   "source": [
    "# Make Prediction\n",
    "y_pred = logr.predict(x_test)"
   ]
  },
  {
   "cell_type": "code",
   "execution_count": 13,
   "id": "fd54add3",
   "metadata": {},
   "outputs": [
    {
     "data": {
      "image/png": "[encoded data removed]",
      "text/plain": [
       "<Figure size 432x288 with 2 Axes>"
      ]
     },
     "metadata": {
      "needs_background": "light"
     },
     "output_type": "display_data"
    },
    {
     "name": "stdout",
     "output_type": "stream",
     "text": [
      "              precision    recall  f1-score   support\n",
      "\n",
      "           0       0.94      0.99      0.96       395\n",
      "           1       0.55      0.16      0.25        37\n",
      "           2       0.00      0.00      0.00        28\n",
      "           3       0.87      0.99      0.92       239\n",
      "\n",
      "    accuracy                           0.91       699\n",
      "   macro avg       0.59      0.53      0.53       699\n",
      "weighted avg       0.86      0.91      0.87       699\n",
      "\n",
      "accuracy : 0.90558\n"
     ]
    }
   ],
   "source": [
    "from sklearn.metrics import confusion_matrix, classification_report, accuracy_score\n",
    "import seaborn as sns\n",
    "\n",
    "cm = confusion_matrix(y_test, y_pred)\n",
    "sns.heatmap(cm, annot=True, cmap='Blues')\n",
    "plt.title(\"Logistic Regression\")\n",
    "plt.show()\n",
    "\n",
    "# Classification Report\n",
    "clfReport = classification_report(y_test, y_pred, zero_division = 0)\n",
    "print(clfReport)\n",
    "\n",
    "score = accuracy_score(y_test, y_pred)\n",
    "print('accuracy :', '{:.5f}'.format(score))"
   ]
  },
  {
   "cell_type": "markdown",
   "id": "fa40163b",
   "metadata": {},
   "source": [
    "# K-NN Classifier"
   ]
  },
  {
   "cell_type": "code",
   "execution_count": 14,
   "id": "c13991e7",
   "metadata": {},
   "outputs": [
    {
     "data": {
      "text/plain": [
       "KNeighborsClassifier(n_neighbors=6)"
      ]
     },
     "execution_count": 14,
     "metadata": {},
     "output_type": "execute_result"
    }
   ],
   "source": [
    "from sklearn.neighbors import KNeighborsClassifier\n",
    "\n",
    "knn = KNeighborsClassifier(n_neighbors = 6, metric = 'minkowski') # 6\n",
    "\n",
    "# Train K-NN Model\n",
    "knn.fit(x_train, y_train.ravel())"
   ]
  },
  {
   "cell_type": "code",
   "execution_count": 15,
   "id": "c08ad1c6",
   "metadata": {},
   "outputs": [],
   "source": [
    "# Make a Prediction\n",
    "y_pred = knn.predict(x_test)"
   ]
  },
  {
   "cell_type": "code",
   "execution_count": 16,
   "id": "b6538b3a",
   "metadata": {},
   "outputs": [
    {
     "data": {
      "image/png": "[encoded data removed]",
      "text/plain": [
       "<Figure size 432x288 with 2 Axes>"
      ]
     },
     "metadata": {
      "needs_background": "light"
     },
     "output_type": "display_data"
    },
    {
     "name": "stdout",
     "output_type": "stream",
     "text": [
      "              precision    recall  f1-score   support\n",
      "\n",
      "           0       0.96      0.99      0.98       395\n",
      "           1       0.60      0.57      0.58        37\n",
      "           2       0.71      0.43      0.53        28\n",
      "           3       0.94      0.95      0.94       239\n",
      "\n",
      "    accuracy                           0.93       699\n",
      "   macro avg       0.80      0.73      0.76       699\n",
      "weighted avg       0.93      0.93      0.93       699\n",
      "\n",
      "accuracy : 0.93133\n"
     ]
    }
   ],
   "source": [
    "from sklearn.metrics import confusion_matrix, classification_report, accuracy_score\n",
    "import seaborn as sns\n",
    "\n",
    "cm = confusion_matrix(y_test, y_pred)\n",
    "sns.heatmap(cm, annot=True, cmap='Blues')\n",
    "plt.title(\"K-NN Classifier\")\n",
    "plt.show()\n",
    "\n",
    "# Classification Report\n",
    "clfReport = classification_report(y_test, y_pred, zero_division = 0)\n",
    "print(clfReport)\n",
    "\n",
    "score = accuracy_score(y_test, y_pred)\n",
    "print('accuracy :', '{:.5f}'.format(score))"
   ]
  },
  {
   "cell_type": "markdown",
   "id": "7980de9d",
   "metadata": {},
   "source": [
    "# SVM Classifier"
   ]
  },
  {
   "cell_type": "code",
   "execution_count": 17,
   "id": "126d1aaa",
   "metadata": {},
   "outputs": [
    {
     "data": {
      "text/plain": [
       "SVC()"
      ]
     },
     "execution_count": 17,
     "metadata": {},
     "output_type": "execute_result"
    }
   ],
   "source": [
    "from sklearn.svm import SVC\n",
    "\n",
    "svc = SVC(kernel = 'rbf')         # rbf, sigmoid, poly\n",
    "\n",
    "# Train SVM classifier model\n",
    "svc.fit(x_train, y_train.ravel())"
   ]
  },
  {
   "cell_type": "code",
   "execution_count": 18,
   "id": "1b2ed699",
   "metadata": {},
   "outputs": [],
   "source": [
    "y_pred = svc.predict(x_test)"
   ]
  },
  {
   "cell_type": "code",
   "execution_count": 19,
   "id": "0a7b96bd",
   "metadata": {},
   "outputs": [
    {
     "data": {
      "image/png": "[encoded data removed]",
      "text/plain": [
       "<Figure size 432x288 with 2 Axes>"
      ]
     },
     "metadata": {
      "needs_background": "light"
     },
     "output_type": "display_data"
    },
    {
     "name": "stdout",
     "output_type": "stream",
     "text": [
      "              precision    recall  f1-score   support\n",
      "\n",
      "           0       0.94      0.99      0.97       395\n",
      "           1       0.42      0.27      0.33        37\n",
      "           2       0.33      0.07      0.12        28\n",
      "           3       0.91      0.96      0.94       239\n",
      "\n",
      "    accuracy                           0.91       699\n",
      "   macro avg       0.65      0.57      0.59       699\n",
      "weighted avg       0.88      0.91      0.89       699\n",
      "\n",
      "accuracy : 0.90844\n"
     ]
    }
   ],
   "source": [
    "from sklearn.metrics import confusion_matrix, classification_report, accuracy_score\n",
    "import seaborn as sns\n",
    "\n",
    "cm = confusion_matrix(y_test, y_pred)\n",
    "sns.heatmap(cm, annot=True, cmap='Blues')\n",
    "plt.title(\"SVM Classifier\")\n",
    "plt.show()\n",
    "\n",
    "# Classification Report\n",
    "clfReport = classification_report(y_test, y_pred, zero_division = 0)\n",
    "print(clfReport)\n",
    "\n",
    "score = accuracy_score(y_test, y_pred)\n",
    "print('accuracy :', '{:.5f}'.format(score))"
   ]
  },
  {
   "cell_type": "markdown",
   "id": "d85d289b",
   "metadata": {},
   "source": [
    "# Naive Bayes"
   ]
  },
  {
   "cell_type": "code",
   "execution_count": 20,
   "id": "8aad16de",
   "metadata": {},
   "outputs": [
    {
     "data": {
      "text/plain": [
       "GaussianNB()"
      ]
     },
     "execution_count": 20,
     "metadata": {},
     "output_type": "execute_result"
    }
   ],
   "source": [
    "# Gaussian Naive Bayes, Multinomial Naive Bayes, Complement Naive Bayes, Bernaulli Naive Bayes, Categorical Naive Bayes\n",
    "from sklearn.naive_bayes import GaussianNB\n",
    "\n",
    "gnb = GaussianNB()\n",
    "\n",
    "# Train Gaussian Naive Bayes Classification Model\n",
    "gnb.fit(x_train, y_train.ravel())"
   ]
  },
  {
   "cell_type": "code",
   "execution_count": 21,
   "id": "3cb29467",
   "metadata": {},
   "outputs": [],
   "source": [
    "y_pred = gnb.predict(x_test)"
   ]
  },
  {
   "cell_type": "code",
   "execution_count": 22,
   "id": "a0f7822e",
   "metadata": {},
   "outputs": [
    {
     "data": {
      "image/png": "[encoded data removed]",
      "text/plain": [
       "<Figure size 432x288 with 2 Axes>"
      ]
     },
     "metadata": {
      "needs_background": "light"
     },
     "output_type": "display_data"
    },
    {
     "name": "stdout",
     "output_type": "stream",
     "text": [
      "              precision    recall  f1-score   support\n",
      "\n",
      "           0       0.98      0.92      0.95       395\n",
      "           1       0.31      0.65      0.42        37\n",
      "           2       0.21      0.14      0.17        28\n",
      "           3       0.95      0.93      0.94       239\n",
      "\n",
      "    accuracy                           0.88       699\n",
      "   macro avg       0.61      0.66      0.62       699\n",
      "weighted avg       0.91      0.88      0.89       699\n",
      "\n",
      "accuracy : 0.87697\n"
     ]
    }
   ],
   "source": [
    "from sklearn.metrics import confusion_matrix, classification_report, accuracy_score\n",
    "import seaborn as sns\n",
    "\n",
    "cm = confusion_matrix(y_test, y_pred)\n",
    "sns.heatmap(cm, annot=True, cmap='Blues')\n",
    "plt.title(\"Naive Bayes Classifier\")\n",
    "plt.show()\n",
    "\n",
    "# Classification Report\n",
    "clfReport = classification_report(y_test, y_pred, zero_division = 0)\n",
    "print(clfReport)\n",
    "\n",
    "score = accuracy_score(y_test, y_pred)\n",
    "print('accuracy :', '{:.5f}'.format(score))"
   ]
  },
  {
   "cell_type": "markdown",
   "id": "829e33c5",
   "metadata": {},
   "source": [
    "# Decision Tree Classifier"
   ]
  },
  {
   "cell_type": "code",
   "execution_count": 23,
   "id": "0b6f045b",
   "metadata": {},
   "outputs": [
    {
     "data": {
      "text/plain": [
       "DecisionTreeClassifier()"
      ]
     },
     "execution_count": 23,
     "metadata": {},
     "output_type": "execute_result"
    }
   ],
   "source": [
    "from sklearn.tree import DecisionTreeClassifier\n",
    "\n",
    "dtc = DecisionTreeClassifier(criterion = 'gini')   # gini(default)-entropy\n",
    "\n",
    "# Train Decision Tree Model\n",
    "dtc.fit(x_train, y_train)"
   ]
  },
  {
   "cell_type": "code",
   "execution_count": 24,
   "id": "57659975",
   "metadata": {},
   "outputs": [],
   "source": [
    "y_pred = dtc.predict(x_test)"
   ]
  },
  {
   "cell_type": "code",
   "execution_count": 25,
   "id": "776f6ee1",
   "metadata": {},
   "outputs": [
    {
     "data": {
      "image/png": "[encoded data removed]",
      "text/plain": [
       "<Figure size 432x288 with 2 Axes>"
      ]
     },
     "metadata": {
      "needs_background": "light"
     },
     "output_type": "display_data"
    },
    {
     "name": "stdout",
     "output_type": "stream",
     "text": [
      "              precision    recall  f1-score   support\n",
      "\n",
      "           0       0.98      0.98      0.98       395\n",
      "           1       0.60      0.73      0.66        37\n",
      "           2       0.55      0.57      0.56        28\n",
      "           3       0.99      0.95      0.97       239\n",
      "\n",
      "    accuracy                           0.94       699\n",
      "   macro avg       0.78      0.81      0.79       699\n",
      "weighted avg       0.95      0.94      0.94       699\n",
      "\n",
      "accuracy : 0.94134\n"
     ]
    }
   ],
   "source": [
    "from sklearn.metrics import confusion_matrix, classification_report, accuracy_score\n",
    "import seaborn as sns\n",
    "\n",
    "cm = confusion_matrix(y_test, y_pred)\n",
    "sns.heatmap(cm, annot=True, cmap='Blues')\n",
    "plt.title(\"Decision Tree Classifier\")\n",
    "plt.show()\n",
    "\n",
    "# Classification Report\n",
    "clfReport = classification_report(y_test, y_pred, zero_division = 0)\n",
    "print(clfReport)\n",
    "\n",
    "score = accuracy_score(y_test, y_pred)\n",
    "print('accuracy :', '{:.5f}'.format(score))"
   ]
  },
  {
   "cell_type": "markdown",
   "id": "b7692294",
   "metadata": {},
   "source": [
    "# Random Forest Classifier"
   ]
  },
  {
   "cell_type": "code",
   "execution_count": 26,
   "id": "25b0ae1b",
   "metadata": {},
   "outputs": [
    {
     "data": {
      "text/plain": [
       "RandomForestClassifier(n_estimators=30)"
      ]
     },
     "execution_count": 26,
     "metadata": {},
     "output_type": "execute_result"
    }
   ],
   "source": [
    "from sklearn.ensemble import RandomForestClassifier\n",
    "\n",
    "rfc = RandomForestClassifier(n_estimators = 30, criterion = 'gini')\n",
    "\n",
    "# Train Random Forest Classification Model\n",
    "rfc.fit(x_train, y_train.ravel())"
   ]
  },
  {
   "cell_type": "code",
   "execution_count": 27,
   "id": "768a9662",
   "metadata": {},
   "outputs": [],
   "source": [
    "y_pred = rfc.predict(x_test)"
   ]
  },
  {
   "cell_type": "code",
   "execution_count": 28,
   "id": "a67937d1",
   "metadata": {},
   "outputs": [
    {
     "data": {
      "image/png": "[encoded data removed]",
      "text/plain": [
       "<Figure size 432x288 with 2 Axes>"
      ]
     },
     "metadata": {
      "needs_background": "light"
     },
     "output_type": "display_data"
    },
    {
     "name": "stdout",
     "output_type": "stream",
     "text": [
      "              precision    recall  f1-score   support\n",
      "\n",
      "           0       0.98      0.99      0.99       395\n",
      "           1       0.76      0.59      0.67        37\n",
      "           2       0.52      0.50      0.51        28\n",
      "           3       0.95      0.97      0.96       239\n",
      "\n",
      "    accuracy                           0.94       699\n",
      "   macro avg       0.80      0.76      0.78       699\n",
      "weighted avg       0.94      0.94      0.94       699\n",
      "\n",
      "accuracy : 0.94278\n"
     ]
    }
   ],
   "source": [
    "from sklearn.metrics import confusion_matrix, classification_report, accuracy_score\n",
    "import seaborn as sns\n",
    "\n",
    "cm = confusion_matrix(y_test, y_pred)\n",
    "sns.heatmap(cm, annot=True, cmap='Blues')\n",
    "plt.title(\"Random Forest Classifier\")\n",
    "plt.show()\n",
    "\n",
    "# Classification Report\n",
    "clfReport = classification_report(y_test, y_pred, zero_division = 0)\n",
    "print(clfReport)\n",
    "\n",
    "score = accuracy_score(y_test, y_pred)\n",
    "print('accuracy :', '{:.5f}'.format(score))"
   ]
  }
 ],
 "metadata": {
  "kernelspec": {
   "display_name": "Python 3",
   "language": "python",
   "name": "python3"
  },
  "language_info": {
   "codemirror_mode": {
    "name": "ipython",
    "version": 3
   },
   "file_extension": ".py",
   "mimetype": "text/x-python",
   "name": "python",
   "nbconvert_exporter": "python",
   "pygments_lexer": "ipython3",
   "version": "3.8.8"
  }
 },
 "nbformat": 4,
 "nbformat_minor": 5
}
